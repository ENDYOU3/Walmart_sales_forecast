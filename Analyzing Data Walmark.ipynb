{
  "cells": [
    {
      "attachments": {},
      "cell_type": "markdown",
      "metadata": {},
      "source": [
        "# <center> **★ Data Science Project ★**"
      ]
    },
    {
      "attachments": {},
      "cell_type": "markdown",
      "metadata": {
        "id": "BB5CkOQVMC3Q"
      },
      "source": [
        "## <center> **Problem Definition**"
      ]
    },
    {
      "cell_type": "markdown",
      "metadata": {
        "id": "7gm2S19RL43N"
      },
      "source": [
        "### ***Business Understanding***\n",
        "Walmart Inc. is an American multinational retail corporation that operates a chain of hypermarkets, discount department stores, and grocery stores from the United States, headquartered in Bentonville, Arkansas\n",
        "\n",
        "### ***In this project, we focused to answer the following questions***\n",
        "1. Which store has minimum and maximum sales?\n",
        "2. Which store has maximum standard deviation i.e., the sales vary a lot. Also, find out the coefficient of mean to standard deviation\n",
        "3. Which store/s has good quarterly growth rate in Q3’2012\n",
        "4. Some holidays have a negative impact on sales. Find out holidays which have higher sales than the mean sales in non-holiday season for all stores together\n",
        "5. Provide a monthly and semester view of sales in units and give insights\n",
        "6. Build prediction to forecast demand.\n",
        "\n",
        "### ***Data Understanding***\n",
        "There are sales data available for 45 stores of Walmart in Kaggle. This is the data that covers sales from 2010-02-05 to 2012-10-26.\n",
        "### ***The data contains these features***\n",
        "* This file contains anonymized information about the 45 stores, additional data related to the store and regional activity for the given dates. It contains the following fields:\n",
        ">__Walmark.csv__\n",
        "* Store - the store number\n",
        "* Date - the week of sales\n",
        "* Weekly_Sales - sales for the given department in the given store\n",
        "* Holiday_Flag - whether the week is a special holiday week (1–Holiday week, 0–Non-holiday week)\n",
        "* Temperature - average temperature in the region\n",
        "* Fuel_Price - cost of fuel in the region\n",
        "* CPI – the consumer price index\n",
        "* Unemployment - the unemployment rate\n",
        "\n",
        "*For convenience, the four holidays fall within the following weeks in the dataset.<br>(not all holidays are in the data):*\n",
        "* *Super Bowl : 12-Feb-10, 11-Feb-11, 10-Feb-12, 8-Feb-13*\n",
        "* *Labor Day : 10-Sep-10, 9-Sep-11, 7-Sep-12, 6-Sep-13*\n",
        "* *Thanksgiving : 26-Nov-10, 25-Nov-11, 23-Nov-12, 29-Nov-13*\n",
        "* *Christmas : 31-Dec-10, 30-Dec-11, 28-Dec-12, 27-Dec-13*"
      ]
    },
    {
      "attachments": {},
      "cell_type": "markdown",
      "metadata": {
        "id": "KhQNjDzPJDWV"
      },
      "source": [
        "## <center> **Data Acquisition**"
      ]
    },
    {
      "cell_type": "code",
      "execution_count": 1,
      "metadata": {
        "id": "Vb0mMQ0Q2hKO"
      },
      "outputs": [],
      "source": [
        "# Import necessary libraries\n",
        "import pandas as pd\n",
        "import numpy as np\n",
        "from scipy.stats import zscore\n",
        "# Library for data visualization\n",
        "import seaborn as sns\n",
        "import matplotlib.pyplot as plt\n",
        "sns.set_style('whitegrid')\n",
        "# Algorithm (Linear Regression)\n",
        "from sklearn.linear_model import LinearRegression, Lasso, Ridge, ElasticNet\n",
        "from sklearn.ensemble import RandomForestRegressor\n",
        "from sklearn.preprocessing import StandardScaler\n",
        "from sklearn.model_selection import train_test_split, cross_val_score\n",
        "from sklearn.metrics import mean_squared_error, r2_score\n",
        "from sklearn.model_selection import GridSearchCV\n",
        "from sklearn.pipeline import Pipeline"
      ]
    },
    {
      "cell_type": "code",
      "execution_count": 2,
      "metadata": {
        "colab": {
          "base_uri": "https://localhost:8080/",
          "height": 0
        },
        "id": "mhXc82DqJNG9",
        "outputId": "cdb0f894-47bc-42dc-8b37-14ba16c92d52"
      },
      "outputs": [
        {
          "data": {
            "text/html": [
              "<div>\n",
              "<style scoped>\n",
              "    .dataframe tbody tr th:only-of-type {\n",
              "        vertical-align: middle;\n",
              "    }\n",
              "\n",
              "    .dataframe tbody tr th {\n",
              "        vertical-align: top;\n",
              "    }\n",
              "\n",
              "    .dataframe thead th {\n",
              "        text-align: right;\n",
              "    }\n",
              "</style>\n",
              "<table border=\"1\" class=\"dataframe\">\n",
              "  <thead>\n",
              "    <tr style=\"text-align: right;\">\n",
              "      <th></th>\n",
              "      <th>Store</th>\n",
              "      <th>Date</th>\n",
              "      <th>Weekly_Sales</th>\n",
              "      <th>Holiday_Flag</th>\n",
              "      <th>Temperature</th>\n",
              "      <th>Fuel_Price</th>\n",
              "      <th>CPI</th>\n",
              "      <th>Unemployment</th>\n",
              "    </tr>\n",
              "  </thead>\n",
              "  <tbody>\n",
              "    <tr>\n",
              "      <th>0</th>\n",
              "      <td>1</td>\n",
              "      <td>05-02-2010</td>\n",
              "      <td>1643690.90</td>\n",
              "      <td>0</td>\n",
              "      <td>42.31</td>\n",
              "      <td>2.572</td>\n",
              "      <td>211.096358</td>\n",
              "      <td>8.106</td>\n",
              "    </tr>\n",
              "    <tr>\n",
              "      <th>1</th>\n",
              "      <td>1</td>\n",
              "      <td>12-02-2010</td>\n",
              "      <td>1641957.44</td>\n",
              "      <td>1</td>\n",
              "      <td>38.51</td>\n",
              "      <td>2.548</td>\n",
              "      <td>211.242170</td>\n",
              "      <td>8.106</td>\n",
              "    </tr>\n",
              "    <tr>\n",
              "      <th>2</th>\n",
              "      <td>1</td>\n",
              "      <td>19-02-2010</td>\n",
              "      <td>1611968.17</td>\n",
              "      <td>0</td>\n",
              "      <td>39.93</td>\n",
              "      <td>2.514</td>\n",
              "      <td>211.289143</td>\n",
              "      <td>8.106</td>\n",
              "    </tr>\n",
              "    <tr>\n",
              "      <th>3</th>\n",
              "      <td>1</td>\n",
              "      <td>26-02-2010</td>\n",
              "      <td>1409727.59</td>\n",
              "      <td>0</td>\n",
              "      <td>46.63</td>\n",
              "      <td>2.561</td>\n",
              "      <td>211.319643</td>\n",
              "      <td>8.106</td>\n",
              "    </tr>\n",
              "    <tr>\n",
              "      <th>4</th>\n",
              "      <td>1</td>\n",
              "      <td>05-03-2010</td>\n",
              "      <td>1554806.68</td>\n",
              "      <td>0</td>\n",
              "      <td>46.50</td>\n",
              "      <td>2.625</td>\n",
              "      <td>211.350143</td>\n",
              "      <td>8.106</td>\n",
              "    </tr>\n",
              "  </tbody>\n",
              "</table>\n",
              "</div>"
            ],
            "text/plain": [
              "   Store        Date  Weekly_Sales  Holiday_Flag  Temperature  Fuel_Price  \\\n",
              "0      1  05-02-2010    1643690.90             0        42.31       2.572   \n",
              "1      1  12-02-2010    1641957.44             1        38.51       2.548   \n",
              "2      1  19-02-2010    1611968.17             0        39.93       2.514   \n",
              "3      1  26-02-2010    1409727.59             0        46.63       2.561   \n",
              "4      1  05-03-2010    1554806.68             0        46.50       2.625   \n",
              "\n",
              "          CPI  Unemployment  \n",
              "0  211.096358         8.106  \n",
              "1  211.242170         8.106  \n",
              "2  211.289143         8.106  \n",
              "3  211.319643         8.106  \n",
              "4  211.350143         8.106  "
            ]
          },
          "execution_count": 2,
          "metadata": {},
          "output_type": "execute_result"
        }
      ],
      "source": [
        "# Load dataset\n",
        "missing_sign = ['n/a','na','nan','--','none']\n",
        "data_set = pd.read_csv('Walmart.csv', na_values=missing_sign)\n",
        "data_set.head()"
      ]
    },
    {
      "cell_type": "code",
      "execution_count": 3,
      "metadata": {
        "colab": {
          "base_uri": "https://localhost:8080/"
        },
        "id": "3cj0zEY9MoGm",
        "outputId": "3ca3671e-b855-498a-f5fc-1555fa7bc457"
      },
      "outputs": [
        {
          "name": "stdout",
          "output_type": "stream",
          "text": [
            "<class 'pandas.core.frame.DataFrame'>\n",
            "RangeIndex: 6435 entries, 0 to 6434\n",
            "Data columns (total 8 columns):\n",
            " #   Column        Non-Null Count  Dtype  \n",
            "---  ------        --------------  -----  \n",
            " 0   Store         6435 non-null   int64  \n",
            " 1   Date          6435 non-null   object \n",
            " 2   Weekly_Sales  6435 non-null   float64\n",
            " 3   Holiday_Flag  6435 non-null   int64  \n",
            " 4   Temperature   6435 non-null   float64\n",
            " 5   Fuel_Price    6435 non-null   float64\n",
            " 6   CPI           6435 non-null   float64\n",
            " 7   Unemployment  6435 non-null   float64\n",
            "dtypes: float64(5), int64(2), object(1)\n",
            "memory usage: 402.3+ KB\n"
          ]
        }
      ],
      "source": [
        "# Check information of data\n",
        "data_set.info()"
      ]
    },
    {
      "attachments": {},
      "cell_type": "markdown",
      "metadata": {
        "id": "G1MLqIfZKEuR"
      },
      "source": [
        "## <center> **Data Preparation**"
      ]
    },
    {
      "cell_type": "code",
      "execution_count": 4,
      "metadata": {
        "id": "XGc4W-b0MdmH"
      },
      "outputs": [],
      "source": [
        "# Determine variable type\n",
        "cat_var = ['Store','Holiday_Flag']\n",
        "num_var = ['Weekly_Sales','Temperature','Fuel_Price','CPI','Unemployment']"
      ]
    },
    {
      "cell_type": "code",
      "execution_count": 5,
      "metadata": {
        "id": "DwJi9FBqUSEc"
      },
      "outputs": [],
      "source": [
        "# Convert data type \n",
        "for i in num_var:\n",
        "  data_set[i] = pd.to_numeric(data_set[i], errors='coerce')\n",
        "data_set[cat_var] = data_set[cat_var].astype('category')\n",
        "data_set['Date'] = pd.to_datetime(data_set['Date'], format='%d-%m-%Y')"
      ]
    },
    {
      "cell_type": "code",
      "execution_count": 6,
      "metadata": {
        "colab": {
          "base_uri": "https://localhost:8080/",
          "height": 0
        },
        "id": "Ti8cXU2Mqac2",
        "outputId": "0d66ee0c-5250-43f0-bf46-acd7bd41b96a"
      },
      "outputs": [
        {
          "name": "stdout",
          "output_type": "stream",
          "text": [
            "Column : 'Store'\n",
            "Unique values : [1, 2, 3, 4, 5, ..., 41, 42, 43, 44, 45]\n",
            "Length: 45\n",
            "Categories (45, int64): [1, 2, 3, 4, ..., 42, 43, 44, 45]\n",
            "\n",
            "Column : 'Holiday_Flag'\n",
            "Unique values : [0, 1]\n",
            "Categories (2, int64): [0, 1]\n",
            "\n"
          ]
        },
        {
          "data": {
            "image/png": "[encoded data removed]",
            "text/plain": [
              "<Figure size 2000x700 with 2 Axes>"
            ]
          },
          "metadata": {},
          "output_type": "display_data"
        }
      ],
      "source": [
        "# Check values each columns (categorical type)\n",
        "fig, ax = plt.subplots(ncols=len(cat_var), figsize=(20,7))\n",
        "for i,j in enumerate(cat_var):\n",
        "  sns.countplot(data=data_set, x=j, ax=ax[i])\n",
        "  print(f\"Column : '{j}'\\nUnique values : {data_set[j].unique()}\\n\")"
      ]
    },
    {
      "cell_type": "code",
      "execution_count": 7,
      "metadata": {
        "colab": {
          "base_uri": "https://localhost:8080/",
          "height": 0
        },
        "id": "O-LNeiwX6t8Z",
        "outputId": "67195fca-1480-45f6-bcca-d2f266b9bdb8"
      },
      "outputs": [
        {
          "data": {
            "text/html": [
              "<div>\n",
              "<style scoped>\n",
              "    .dataframe tbody tr th:only-of-type {\n",
              "        vertical-align: middle;\n",
              "    }\n",
              "\n",
              "    .dataframe tbody tr th {\n",
              "        vertical-align: top;\n",
              "    }\n",
              "\n",
              "    .dataframe thead th {\n",
              "        text-align: right;\n",
              "    }\n",
              "</style>\n",
              "<table border=\"1\" class=\"dataframe\">\n",
              "  <thead>\n",
              "    <tr style=\"text-align: right;\">\n",
              "      <th></th>\n",
              "      <th>Weekly_Sales</th>\n",
              "      <th>Temperature</th>\n",
              "      <th>Fuel_Price</th>\n",
              "      <th>CPI</th>\n",
              "      <th>Unemployment</th>\n",
              "    </tr>\n",
              "  </thead>\n",
              "  <tbody>\n",
              "    <tr>\n",
              "      <th>count</th>\n",
              "      <td>6.435000e+03</td>\n",
              "      <td>6435.000000</td>\n",
              "      <td>6435.000000</td>\n",
              "      <td>6435.000000</td>\n",
              "      <td>6435.000000</td>\n",
              "    </tr>\n",
              "    <tr>\n",
              "      <th>mean</th>\n",
              "      <td>1.046965e+06</td>\n",
              "      <td>60.663782</td>\n",
              "      <td>3.358607</td>\n",
              "      <td>171.578394</td>\n",
              "      <td>7.999151</td>\n",
              "    </tr>\n",
              "    <tr>\n",
              "      <th>std</th>\n",
              "      <td>5.643666e+05</td>\n",
              "      <td>18.444933</td>\n",
              "      <td>0.459020</td>\n",
              "      <td>39.356712</td>\n",
              "      <td>1.875885</td>\n",
              "    </tr>\n",
              "    <tr>\n",
              "      <th>min</th>\n",
              "      <td>2.099862e+05</td>\n",
              "      <td>-2.060000</td>\n",
              "      <td>2.472000</td>\n",
              "      <td>126.064000</td>\n",
              "      <td>3.879000</td>\n",
              "    </tr>\n",
              "    <tr>\n",
              "      <th>25%</th>\n",
              "      <td>5.533501e+05</td>\n",
              "      <td>47.460000</td>\n",
              "      <td>2.933000</td>\n",
              "      <td>131.735000</td>\n",
              "      <td>6.891000</td>\n",
              "    </tr>\n",
              "    <tr>\n",
              "      <th>50%</th>\n",
              "      <td>9.607460e+05</td>\n",
              "      <td>62.670000</td>\n",
              "      <td>3.445000</td>\n",
              "      <td>182.616521</td>\n",
              "      <td>7.874000</td>\n",
              "    </tr>\n",
              "    <tr>\n",
              "      <th>75%</th>\n",
              "      <td>1.420159e+06</td>\n",
              "      <td>74.940000</td>\n",
              "      <td>3.735000</td>\n",
              "      <td>212.743293</td>\n",
              "      <td>8.622000</td>\n",
              "    </tr>\n",
              "    <tr>\n",
              "      <th>max</th>\n",
              "      <td>3.818686e+06</td>\n",
              "      <td>100.140000</td>\n",
              "      <td>4.468000</td>\n",
              "      <td>227.232807</td>\n",
              "      <td>14.313000</td>\n",
              "    </tr>\n",
              "  </tbody>\n",
              "</table>\n",
              "</div>"
            ],
            "text/plain": [
              "       Weekly_Sales  Temperature   Fuel_Price          CPI  Unemployment\n",
              "count  6.435000e+03  6435.000000  6435.000000  6435.000000   6435.000000\n",
              "mean   1.046965e+06    60.663782     3.358607   171.578394      7.999151\n",
              "std    5.643666e+05    18.444933     0.459020    39.356712      1.875885\n",
              "min    2.099862e+05    -2.060000     2.472000   126.064000      3.879000\n",
              "25%    5.533501e+05    47.460000     2.933000   131.735000      6.891000\n",
              "50%    9.607460e+05    62.670000     3.445000   182.616521      7.874000\n",
              "75%    1.420159e+06    74.940000     3.735000   212.743293      8.622000\n",
              "max    3.818686e+06   100.140000     4.468000   227.232807     14.313000"
            ]
          },
          "execution_count": 7,
          "metadata": {},
          "output_type": "execute_result"
        }
      ],
      "source": [
        "# Check statistic of data\n",
        "data_set.describe()"
      ]
    },
    {
      "cell_type": "markdown",
      "metadata": {
        "id": "yQrmmpFROA9U"
      },
      "source": [
        "### **Data Cleansing**"
      ]
    },
    {
      "cell_type": "markdown",
      "metadata": {
        "id": "xi-op1PvvGjH"
      },
      "source": [
        "#### *Data Missing*"
      ]
    },
    {
      "cell_type": "code",
      "execution_count": 8,
      "metadata": {
        "colab": {
          "base_uri": "https://localhost:8080/"
        },
        "id": "4y5eLpDoODbV",
        "outputId": "b2dfbbec-ad46-4a54-b903-d7e7cd5beb38"
      },
      "outputs": [
        {
          "name": "stdout",
          "output_type": "stream",
          "text": [
            "Percentage of missing values :\n",
            "Store           0.0\n",
            "Date            0.0\n",
            "Weekly_Sales    0.0\n",
            "Holiday_Flag    0.0\n",
            "Temperature     0.0\n",
            "Fuel_Price      0.0\n",
            "CPI             0.0\n",
            "Unemployment    0.0\n",
            "dtype: float64\n"
          ]
        }
      ],
      "source": [
        "# Check missing values\n",
        "count_miss = data_set.isnull().sum()\n",
        "percent_miss = count_miss*100/data_set.shape[0]\n",
        "print(f'Percentage of missing values :\\n{percent_miss}')"
      ]
    },
    {
      "cell_type": "code",
      "execution_count": 35,
      "metadata": {
        "id": "WZ_TIIyvvuAw"
      },
      "outputs": [],
      "source": [
        "# Remove columns with more than 20% of missing values\n",
        "left = int(data_set.shape[0]*0.8)\n",
        "df = data_set.dropna(thresh=left, axis=1)"
      ]
    },
    {
      "cell_type": "markdown",
      "metadata": {
        "id": "8prFhy13wPuh"
      },
      "source": [
        "#### *Data Outlier*"
      ]
    },
    {
      "cell_type": "code",
      "execution_count": 32,
      "metadata": {
        "id": "GWRDlXVgb9J4"
      },
      "outputs": [],
      "source": [
        "# Identifying Outliers with z-score\n",
        "def cleanOutlier(data, num_col, threshold):\n",
        "  total_out = 0\n",
        "  for i in num_col:\n",
        "    count_out = 1\n",
        "    while count_out != 0:\n",
        "      z_values = abs(zscore(data[i], ddof=0))\n",
        "      out_values = z_values[z_values > threshold]\n",
        "      idx = out_values.index\n",
        "      count_out = out_values.count()\n",
        "      total_out += count_out\n",
        "      data.drop(idx, inplace=True)\n",
        "  data.reset_index(drop=True, inplace=True)\n",
        "  print(f'Outlier has {total_out} units. ({total_out*100/data.shape[0]:.2f}%)')"
      ]
    },
    {
      "cell_type": "code",
      "execution_count": 36,
      "metadata": {},
      "outputs": [],
      "source": [
        "from scipy.stats import zscore\n",
        "# outlier detection\n",
        "def cleanOutlier(data, num_cols, threshold=2.5):\n",
        "  total_out = 1\n",
        "  while total_out != 0:\n",
        "    total_out = 0\n",
        "    for column in num_cols:\n",
        "      z_values = abs(zscore(data[column], ddof = 0))\n",
        "      outlier = z_values[z_values > threshold]\n",
        "      idx = outlier.index\n",
        "      count_out = outlier.count()\n",
        "      total_out += count_out\n",
        "      data.drop(idx, inplace=True)\n",
        "  qty_outlier = data_set.shape[0] - data.shape[0]\n",
        "  percent_outlier = (qty_outlier*100)/data_set.shape[0]\n",
        "  print(f'Outlier : {qty_outlier} units ({percent_outlier:.2f}%)')"
      ]
    },
    {
      "cell_type": "code",
      "execution_count": 37,
      "metadata": {
        "colab": {
          "base_uri": "https://localhost:8080/"
        },
        "id": "_qLuBNB5zJeN",
        "outputId": "76d3dae8-1524-4706-9df6-659bf2d109a8"
      },
      "outputs": [
        {
          "name": "stdout",
          "output_type": "stream",
          "text": [
            "Outlier : 729 units (11.33%)\n",
            "Number of sample before clear outlier : 6435 samples\n",
            "Number of sample after clear outlier : 5706 samples\n"
          ]
        }
      ],
      "source": [
        "cleanOutlier(df, num_var, 2.5)\n",
        "print(f'Number of sample before clear outlier : {data_set.shape[0]} samples')\n",
        "print(f'Number of sample after clear outlier : {df.shape[0]} samples')"
      ]
    },
    {
      "cell_type": "code",
      "execution_count": 34,
      "metadata": {
        "colab": {
          "base_uri": "https://localhost:8080/",
          "height": 0
        },
        "id": "F1cNlnU5lGyO",
        "outputId": "943831ae-167c-4128-ee11-542b44ddaa0a"
      },
      "outputs": [
        {
          "data": {
            "image/png": "[encoded data removed]",
            "text/plain": [
              "<Figure size 2000x700 with 2 Axes>"
            ]
          },
          "metadata": {},
          "output_type": "display_data"
        }
      ],
      "source": [
        "# Plot distribution of data (numerical variable)\n",
        "fig, ax = plt.subplots(ncols=2, figsize=(20,7))\n",
        "sns.boxplot(data=pd.melt(zscore(data_set[num_var])),\n",
        "            x='variable',\n",
        "            y='value',\n",
        "            ax=ax[0]\n",
        "            ).set_title('Boxplot before clear outlier')\n",
        "sns.boxplot(data=pd.melt(zscore(df[num_var])),\n",
        "            x='variable',\n",
        "            y='value',\n",
        "            ax=ax[1]\n",
        "            ).set_title('Boxplot after clear outlier');"
      ]
    },
    {
      "cell_type": "markdown",
      "metadata": {
        "id": "g-MoNymwzYLg"
      },
      "source": [
        "#### *Duplicate Data*"
      ]
    },
    {
      "cell_type": "code",
      "execution_count": null,
      "metadata": {
        "id": "NvyRSXZP8JXa"
      },
      "outputs": [],
      "source": [
        "# Remove duplicate data\n",
        "df.drop_duplicates(inplace=True)"
      ]
    },
    {
      "attachments": {},
      "cell_type": "markdown",
      "metadata": {
        "id": "a3I3Ctn70JQe"
      },
      "source": [
        "## <center> **Exploratory data analysis**"
      ]
    },
    {
      "cell_type": "markdown",
      "metadata": {
        "id": "Kx4jIRZvBY8U"
      },
      "source": [
        "### **Question 1:** *Which store has minimum and maximum sales?*"
      ]
    },
    {
      "cell_type": "code",
      "execution_count": null,
      "metadata": {
        "colab": {
          "base_uri": "https://localhost:8080/"
        },
        "id": "atJXSBuxBgTr",
        "outputId": "2b8ad710-70ed-40ff-dd55-f28e83328837"
      },
      "outputs": [],
      "source": [
        "# Total weekly sales for each store\n",
        "total_sales = data_set.groupby('Store')['Weekly_Sales'].sum()\n",
        "print(f'Store {total_sales.idxmax()} has maximum sales : {total_sales.max():,.2f} USD')\n",
        "print(f'Store {total_sales.idxmin()} has minimum sales : {total_sales.min():,.2f} USD')"
      ]
    },
    {
      "cell_type": "code",
      "execution_count": null,
      "metadata": {
        "colab": {
          "base_uri": "https://localhost:8080/",
          "height": 0
        },
        "id": "DzTPxgA-DDXJ",
        "outputId": "2d12ac3d-f26b-4aa9-8f35-1421d0ab523f"
      },
      "outputs": [],
      "source": [
        "# Plot properties (total sales)\n",
        "# Configure the graph display \n",
        "plt.figure(figsize=(20,7))\n",
        "ax = sns.barplot(x=total_sales.index,\n",
        "                 y=total_sales.values,\n",
        "                 order=total_sales.sort_values().index\n",
        "                 )\n",
        "# Configure the title text\n",
        "ax.set_title(\"Total weekly sales for each Store\", fontsize=15)\n",
        "ax.set_xlabel(\"Store number\", fontsize=13)\n",
        "ax.set_ylabel(\"Total sales (USD)\", fontsize=13);"
      ]
    },
    {
      "cell_type": "markdown",
      "metadata": {
        "id": "-4A-ESKLDv_B"
      },
      "source": [
        "### **Question 2:** *Which store has maximum standard deviation i.e., the sales vary a lot. Also, find out the coefficient of mean to standard deviation*"
      ]
    },
    {
      "cell_type": "code",
      "execution_count": null,
      "metadata": {
        "colab": {
          "base_uri": "https://localhost:8080/",
          "height": 0
        },
        "id": "BZQgkRJjD6A9",
        "outputId": "281716d3-50c8-40ad-fc0e-6917a54b1056"
      },
      "outputs": [],
      "source": [
        "# Combining statistics results in weekly sales for each store. (standard deviation and mean)\n",
        "sales_stats = data_set.groupby('Store').agg({'Weekly_Sales':['std','mean']})\n",
        "sales_stats['Coefficient'] = sales_stats['Weekly_Sales']['std']/sales_stats['Weekly_Sales']['mean']\n",
        "sales_stats.sort_values(('Weekly_Sales','std'), ascending=False).head()"
      ]
    },
    {
      "cell_type": "code",
      "execution_count": null,
      "metadata": {
        "colab": {
          "base_uri": "https://localhost:8080/"
        },
        "id": "AhsA7SUk6pL1",
        "outputId": "a6c4a128-1a1e-4aa8-fc31-440f96b5077e"
      },
      "outputs": [],
      "source": [
        "# The highest standard deviation of sales\n",
        "max_std = sales_stats['Weekly_Sales']['std'].max()\n",
        "idx_max_std = sales_stats['Weekly_Sales']['std'].idxmax()\n",
        "print(f\"Store {idx_max_std} has the highest standard deviation of sales : {max_std:,.2f}\")\n",
        "print(f\"Coefficient of mean to standard deviation : {sales_stats['Coefficient'].loc[idx_max_std]:.2f}\")"
      ]
    },
    {
      "cell_type": "code",
      "execution_count": null,
      "metadata": {
        "colab": {
          "base_uri": "https://localhost:8080/",
          "height": 0
        },
        "id": "NovriNYXLACg",
        "outputId": "2a228d98-d6e3-4cd1-e8f2-2dc2afccb686"
      },
      "outputs": [],
      "source": [
        "# Plot properties (distribution of sales)\n",
        "# Configure the graph display \n",
        "plt.figure(figsize=(20,7))\n",
        "ax = sns.histplot(data=data_set[data_set['Store']==idx_max_std]['Weekly_Sales'],\n",
        "                  kde=True\n",
        "                  )\n",
        "# Configure the title text\n",
        "ax.set_title(f\"Distribution of sales for store {idx_max_std}\", fontsize=15)\n",
        "ax.set_xlabel(\"Weekly sales (USD)\", fontsize=13)\n",
        "ax.set_ylabel(\"Count\", fontsize=13);"
      ]
    },
    {
      "cell_type": "markdown",
      "metadata": {
        "id": "tA22w1tKPixY"
      },
      "source": [
        "### **Question 3:** *Which store/s has good quarterly growth rate in Q3’2012*"
      ]
    },
    {
      "cell_type": "code",
      "execution_count": null,
      "metadata": {
        "id": "N644CXUcPoCr"
      },
      "outputs": [],
      "source": [
        "col_use = ['Store','Date','Weekly_Sales']\n",
        "df_growth = data_set[col_use].copy()\n",
        "# Create new columns 'Year' and 'Quarter'\n",
        "df_growth['Year'] = df_growth['Date'].dt.year\n",
        "df_growth['Quarter'] = df_growth['Date'].dt.quarter"
      ]
    },
    {
      "cell_type": "code",
      "execution_count": null,
      "metadata": {
        "id": "9UIa_wLixRDa"
      },
      "outputs": [],
      "source": [
        "# Only data for the year 2012 was filtered\n",
        "df_2012 = df_growth[df_growth['Year']==2012]\n",
        "# Quarter 2\n",
        "quarter_2 = df_2012[df_2012['Quarter']==2]\n",
        "sales_Q2 = quarter_2.groupby('Store')['Weekly_Sales'].sum().to_frame(name='Total_Sales_Q2')\n",
        "# Quarter 3\n",
        "quarter_3 = df_2012[df_2012['Quarter']==3]\n",
        "sales_Q3 = quarter_3.groupby('Store')['Weekly_Sales'].sum().to_frame(name='Total_Sales_Q3')"
      ]
    },
    {
      "cell_type": "code",
      "execution_count": null,
      "metadata": {
        "colab": {
          "base_uri": "https://localhost:8080/",
          "height": 0
        },
        "id": "g8T9QOSAxRwE",
        "outputId": "c7fb9e5f-9e35-491f-ce69-55f2229041cc"
      },
      "outputs": [],
      "source": [
        "# Combining data from quarters 2 and 3\n",
        "growth_rate = sales_Q2.merge(sales_Q3, on='Store')\n",
        "growth_rate['Growth_Rate'] = (growth_rate['Total_Sales_Q3']-growth_rate['Total_Sales_Q2'])*100/growth_rate['Total_Sales_Q2']\n",
        "growth_rate.sort_values('Growth_Rate', ascending=False).head()"
      ]
    },
    {
      "cell_type": "code",
      "execution_count": null,
      "metadata": {
        "colab": {
          "base_uri": "https://localhost:8080/"
        },
        "id": "XzyY74vMvbKj",
        "outputId": "65e280f6-21ff-44b4-ac3f-7f083a1f3221"
      },
      "outputs": [],
      "source": [
        "# The highest and the lowest growth rates in Q3 2012\n",
        "print(f\"Store {growth_rate['Growth_Rate'].idxmax()} has the highest growth rate of {growth_rate['Growth_Rate'].max():.2f}%.\")\n",
        "print(f\"Store {growth_rate['Growth_Rate'].idxmin()} has the lowest growth rate of {abs(growth_rate['Growth_Rate'].min()):.2f}%.\")"
      ]
    },
    {
      "cell_type": "code",
      "execution_count": null,
      "metadata": {
        "colab": {
          "base_uri": "https://localhost:8080/",
          "height": 0
        },
        "id": "a6kjDpr333m-",
        "outputId": "4f4846d3-3402-4c0d-e8dd-b8eeb58827db"
      },
      "outputs": [],
      "source": [
        "# Plot properties (total sales and growth rate 2012 in quarter 2 and 3 for each store)\n",
        "df_plot = pd.melt(growth_rate.drop('Growth_Rate',axis=1), ignore_index=False)\n",
        "# Configure the graph display and title text\n",
        "# Total sales\n",
        "fig, ax = plt.subplots(nrows=2, figsize=(20,14))\n",
        "sns.barplot(x=df_plot.index,\n",
        "            y=df_plot['value'],\n",
        "            hue=df_plot['variable'],\n",
        "            ax=ax[0]\n",
        "            ).set_title(\"Total sales 2012 in quarter 2 and 3 for each store\", fontsize=15)\n",
        "ax[0].set_xlabel(\"Store number\", fontsize=13)\n",
        "ax[0].set_ylabel(\"Total sales (USD)\", fontsize=13)\n",
        "ax[0].legend(title='Quarter', fontsize=10)\n",
        "# Growth rate\n",
        "sns.barplot(x=growth_rate.index,\n",
        "            y=growth_rate['Growth_Rate'],\n",
        "            ax=ax[1]\n",
        "            ).set_title(\"Growth rate in the third quarter of 2012\", fontsize=15)\n",
        "ax[1].set_xlabel(\"Store number\", fontsize=13)\n",
        "ax[1].set_ylabel(\"Growth rate\", fontsize=13);"
      ]
    },
    {
      "cell_type": "markdown",
      "metadata": {
        "id": "EE-ZxFvWiOm2"
      },
      "source": [
        "### **Question 4:** *Some holidays have a negative impact on sales. Find out holidays which have higher sales than the mean sales in non-holiday season for all stores together*\n",
        "* Super Bowl : 12-Feb-10, 11-Feb-11, 10-Feb-12, 8-Feb-13\n",
        "* Labor Day : 10-Sep-10, 9-Sep-11, 7-Sep-12, 6-Sep-13\n",
        "* Thanksgiving : 26-Nov-10, 25-Nov-11, 23-Nov-12, 29-Nov-13\n",
        "* Christmas : 31-Dec-10, 30-Dec-11, 28-Dec-12, 27-Dec-13"
      ]
    },
    {
      "cell_type": "code",
      "execution_count": null,
      "metadata": {
        "id": "jDmMi2p4ppdS"
      },
      "outputs": [],
      "source": [
        "col_use = ['Date','Weekly_Sales','Holiday_Flag']\n",
        "df_holiday = data_set[col_use][data_set['Holiday_Flag']==1].copy()\n",
        "holiday_list = {\n",
        "    'Super Bowl Date' : pd.to_datetime(['2010-02-12','2011-02-11','2012-02-10']),\n",
        "    'Labor Day' : pd.to_datetime(['2010-09-10','2011-09-09','2012-09-07']),\n",
        "    'Thanksgiving' : pd.to_datetime(['2010-11-26','2011-11-25','2012-11-23']),\n",
        "    'Christmas' : pd.to_datetime(['2010-12-31','2011-12-30','2012-12-28'])\n",
        "}\n",
        "# Create new columns 'Holiday'\n",
        "for i in holiday_list:\n",
        "  df_holiday.loc[df_holiday['Date'].isin(holiday_list[i]), 'Holiday'] = i"
      ]
    },
    {
      "cell_type": "code",
      "execution_count": null,
      "metadata": {
        "colab": {
          "base_uri": "https://localhost:8080/",
          "height": 0
        },
        "id": "dZn20t2o1lfi",
        "outputId": "6f805565-caab-4f3b-fb93-e9eca4e8b631"
      },
      "outputs": [],
      "source": [
        "# Mean sales for each holiday\n",
        "# Holiday\n",
        "mean_sales_holiday = df_holiday.groupby('Holiday')['Weekly_Sales'].mean().to_frame(name='Mean_Sales')\n",
        "# Non-Holiday\n",
        "non_holiday = {\n",
        "    'Mean_Sales': data_set['Weekly_Sales'][data_set['Holiday_Flag']==0].mean()\n",
        "}\n",
        "df_non_holiday = pd.DataFrame([non_holiday],index=['Normal Day'])\n",
        "# Combining data from mean sales in holiday and non-holiday\n",
        "mean_sales = pd.concat([mean_sales_holiday,df_non_holiday], axis=0)\n",
        "mean_sales"
      ]
    },
    {
      "cell_type": "code",
      "execution_count": null,
      "metadata": {
        "colab": {
          "base_uri": "https://localhost:8080/"
        },
        "id": "ccWbCULW8O1w",
        "outputId": "d2c4ee6f-54f7-41e1-8bad-c91bd3eb755c"
      },
      "outputs": [],
      "source": [
        "# The highest mean sales\n",
        "print(f\"'{mean_sales['Mean_Sales'].idxmax()}' holiday has higher sales than another events : {mean_sales['Mean_Sales'].max():,.2f} USD\")"
      ]
    },
    {
      "cell_type": "code",
      "execution_count": null,
      "metadata": {
        "colab": {
          "base_uri": "https://localhost:8080/",
          "height": 0
        },
        "id": "Pd5xM_AUyWDh",
        "outputId": "7c7dc910-c2cd-4f88-9dbe-d5b6c23946d5"
      },
      "outputs": [],
      "source": [
        "# Plot properties (Mean sales for each store)\n",
        "# Configure the graph display\n",
        "plt.figure(figsize=(20,7))\n",
        "ax = sns.barplot(x=mean_sales.index, \n",
        "                 y=mean_sales['Mean_Sales'], \n",
        "                 palette='pastel'\n",
        "                 )\n",
        "# Configure the title text\n",
        "for index, row in mean_sales.reset_index().iterrows():\n",
        "  ax.text(index, row['Mean_Sales'], '{:,.2f}'.format(row['Mean_Sales']), ha='center', color='black')\n",
        "ax.set_title(f\"Mean sales for each holiday\", fontsize=15)\n",
        "ax.set_xlabel(\"Holiday name\", fontsize=13)\n",
        "ax.set_ylabel(\"Mean sales (USD)\", fontsize=13);"
      ]
    },
    {
      "cell_type": "markdown",
      "metadata": {
        "id": "_aubDjrsMgYM"
      },
      "source": [
        "### **Question 5:** *Provide a monthly and semester view of sales in units and give insights*"
      ]
    },
    {
      "cell_type": "code",
      "execution_count": null,
      "metadata": {
        "id": "nQ6IBR9DMq3n"
      },
      "outputs": [],
      "source": [
        "col_use = ['Weekly_Sales','Date']\n",
        "df_sum = df[col_use].copy()\n",
        "# Create new column 'Month','Year' and 'Semester'\n",
        "df_sum['Month'] = df_sum['Date'].dt.month\n",
        "df_sum['Year'] = df_sum['Date'].dt.year\n",
        "year = df_sum['Year'].unique()\n",
        "Semester = {\n",
        "    'Semester_1' : np.arange(1,7),\n",
        "    'Semester_2' : np.arange(6,13)\n",
        "    }\n",
        "for idy,y in enumerate(year):\n",
        "    for ids,s in enumerate(Semester):\n",
        "        df_sum.loc[(df_sum['Month'].isin(Semester[s]))&(df_sum['Year']==y), 'Semester'] = ids+1+(idy*2)"
      ]
    },
    {
      "cell_type": "code",
      "execution_count": null,
      "metadata": {
        "colab": {
          "base_uri": "https://localhost:8080/",
          "height": 0
        },
        "id": "_An4ohWUFklA",
        "outputId": "73b451b5-1360-4d91-c98d-653fd27903d5"
      },
      "outputs": [],
      "source": [
        "df_sum.head()"
      ]
    },
    {
      "cell_type": "code",
      "execution_count": null,
      "metadata": {
        "colab": {
          "base_uri": "https://localhost:8080/",
          "height": 0
        },
        "id": "QiQmkTosCaSY",
        "outputId": "c79986fe-929f-48fc-c398-577b276e746c"
      },
      "outputs": [],
      "source": [
        "# Plot properties \n",
        "# Configure the graph display (total monthly sales)\n",
        "fig, ax = plt.subplots(ncols=2, figsize = (20,7))\n",
        "sns.lineplot(data=df_sum,\n",
        "             x='Month',\n",
        "             y='Weekly_Sales',\n",
        "             hue='Year',\n",
        "             estimator=np.sum,\n",
        "             palette='pastel',\n",
        "             ax=ax[0]\n",
        "             ).set_title('Total monthly sales for each year', fontsize=15)\n",
        "ax[0].set_xlabel(\"Month\", fontsize=13)\n",
        "ax[0].set_ylabel(\"Total sales (USD)\", fontsize=13)\n",
        "ax[0].legend(title='Year', fontsize=10)\n",
        "# Configure the graph display (total sales per semester)\n",
        "sns.lineplot(data=df_sum,\n",
        "             x='Semester',\n",
        "             y='Weekly_Sales',\n",
        "             estimator =np.sum,\n",
        "             ax=ax[1]\n",
        "             ).set_title('Total sales per semester', fontsize=15)\n",
        "ax[1].set_xlabel(\"Semester\", fontsize=13)\n",
        "ax[1].set_ylabel(\"Total sales (USD)\", fontsize=13);"
      ]
    },
    {
      "cell_type": "code",
      "execution_count": null,
      "metadata": {
        "colab": {
          "base_uri": "https://localhost:8080/",
          "height": 0
        },
        "id": "bW9UT8gwbJdv",
        "outputId": "b80efa06-49e5-42c0-dddd-6d9c64f58523"
      },
      "outputs": [],
      "source": [
        "# Total monthly sales for each year\n",
        "monthly_sales = df_sum.pivot_table(index='Month', values='Weekly_Sales', columns='Year', aggfunc='sum', fill_value=0, margins=True)\n",
        "month = {\n",
        "    1:'January',\n",
        "    2:'February',\n",
        "    3:'March',\n",
        "    4:'April',\n",
        "    5:'May',\n",
        "    6:'June',\n",
        "    7:'July',\n",
        "    8:'August',\n",
        "    9:'September',\n",
        "    10:'October',\n",
        "    11:'November',\n",
        "    12:'December'\n",
        "    }\n",
        "monthly_sales"
      ]
    },
    {
      "cell_type": "code",
      "execution_count": null,
      "metadata": {
        "colab": {
          "base_uri": "https://localhost:8080/"
        },
        "id": "xXkA8vHyV8WW",
        "outputId": "d001aead-ef18-4b05-b7f8-95a298e164e1"
      },
      "outputs": [],
      "source": [
        "print(f\"The highest annual sales (2010-2012) were {monthly_sales.loc['All'][:2].max():,.2f} USD in {monthly_sales.loc['All'][:2].idxmax()}.\")\n",
        "print(f\"The highest total monthly sales for 3 years (2010-2012) were {monthly_sales['All'][:12].max():,.2f} USD in {month[monthly_sales['All'][:12].idxmax()]}.\\n\")\n",
        "for i in year:\n",
        "  print(f'----------------------- Year : {i} -----------------------')\n",
        "  print(f\"The highest sales in {i} were {monthly_sales[i][:12].max():,.2f} USD in {month[monthly_sales[i][:12].idxmax()]}.\")\n",
        "  print(f\"The lowest sales in {i} were {monthly_sales[i][:12].min():,.2f} USD in {month[monthly_sales[i][:12].idxmin()]}.\\n\")"
      ]
    },
    {
      "cell_type": "code",
      "execution_count": null,
      "metadata": {
        "colab": {
          "base_uri": "https://localhost:8080/",
          "height": 0
        },
        "id": "nqgpyHYqcxwe",
        "outputId": "6df8b065-abcb-4b04-a70d-729f2ba762bc"
      },
      "outputs": [],
      "source": [
        "# Total sales per semester\n",
        "semester_sales = df_sum.pivot_table(index='Semester', values='Weekly_Sales', aggfunc='sum', margins=True)\n",
        "semester_sales"
      ]
    },
    {
      "cell_type": "code",
      "execution_count": null,
      "metadata": {
        "colab": {
          "base_uri": "https://localhost:8080/"
        },
        "id": "lmoN8Si8XQN1",
        "outputId": "02387e3a-52cc-4ac8-bd38-f6d63b7af6da"
      },
      "outputs": [],
      "source": [
        "print(f\"The highest sales in the semester were {semester_sales['Weekly_Sales'][:6].max():,.2f} USD in semester {int(semester_sales['Weekly_Sales'][:6].idxmax())}\")\n",
        "print(f\"The lowest sales in the semester were {semester_sales['Weekly_Sales'][:6].min():,.2f} USD in semester {int(semester_sales['Weekly_Sales'][:6].idxmin())}\")"
      ]
    },
    {
      "attachments": {},
      "cell_type": "markdown",
      "metadata": {
        "id": "XXJpR6RJz6-O"
      },
      "source": [
        "## <center> **Modelling**"
      ]
    },
    {
      "cell_type": "markdown",
      "metadata": {
        "id": "AGvgpodvSGA8"
      },
      "source": [
        "### **Question 6:** *Build prediction to forecast demand*"
      ]
    },
    {
      "cell_type": "markdown",
      "metadata": {
        "id": "g7x1ApgP2Q6m"
      },
      "source": [
        "#### **Prepare data**"
      ]
    },
    {
      "cell_type": "code",
      "execution_count": null,
      "metadata": {
        "colab": {
          "base_uri": "https://localhost:8080/"
        },
        "id": "7HZFm1c7Dk29",
        "outputId": "0ea03960-a546-4678-9039-069c64828a9a"
      },
      "outputs": [],
      "source": [
        "# Use the data after \"Data Cleaning\"\n",
        "df_sales = df.copy()\n",
        "# Create new columns \"Year\" and \"Month\"\n",
        "df_sales['Year'] = df_sales['Date'].dt.year\n",
        "df_sales['Month'] = df_sales['Date'].dt.month\n",
        "df_sales.drop(columns='Date', inplace=True)\n",
        "df_sales.info()"
      ]
    },
    {
      "cell_type": "markdown",
      "metadata": {
        "id": "5oGocng12gTZ"
      },
      "source": [
        "##### *Dummies variable*"
      ]
    },
    {
      "cell_type": "code",
      "execution_count": null,
      "metadata": {
        "id": "j9_LZVtQBVul"
      },
      "outputs": [],
      "source": [
        "# Update the category variable into the \"cat_var\".\n",
        "cat_var = ['Store','Holiday_Flag','Year','Month']"
      ]
    },
    {
      "cell_type": "code",
      "execution_count": null,
      "metadata": {
        "id": "0blOIfG4yTXM"
      },
      "outputs": [],
      "source": [
        "def createDummies(data, cat_col):\n",
        "  global df_dum\n",
        "  df_dum = data.copy()\n",
        "  df_dum[cat_col] = df_dum[cat_col].astype('category')\n",
        "  df_dum = pd.get_dummies(df_dum, prefix=cat_col, drop_first=True)"
      ]
    },
    {
      "cell_type": "code",
      "execution_count": null,
      "metadata": {
        "colab": {
          "base_uri": "https://localhost:8080/",
          "height": 0
        },
        "id": "AaDPO-EqCnMo",
        "outputId": "7238739b-782a-4c7c-e570-a8dbe30ff571"
      },
      "outputs": [],
      "source": [
        "createDummies(df_sales, cat_var)\n",
        "df_dum.head()"
      ]
    },
    {
      "cell_type": "markdown",
      "metadata": {
        "id": "IIWn_NB82qDW"
      },
      "source": [
        "##### *Split data for train and test*\n"
      ]
    },
    {
      "cell_type": "code",
      "execution_count": null,
      "metadata": {
        "colab": {
          "base_uri": "https://localhost:8080/"
        },
        "id": "_5MadUD120bV",
        "outputId": "8223836d-edfa-46f7-fd13-c69e2ec8f0a2"
      },
      "outputs": [],
      "source": [
        "x = df_dum.drop(columns='Weekly_Sales')\n",
        "y = df_dum['Weekly_Sales']\n",
        "# Divide the data into 2 sets: a training set and a test set.\n",
        "x_train, x_test, y_train, y_test = train_test_split(x, y, test_size=0.2, random_state=45)\n",
        "print(f\"Training set : {x_train.shape[0]:,} samples ({x_train.shape[0]*100/df_dum.shape[0]:.2f}%)\")\n",
        "print(f\"Test set : {x_test.shape[0]:,} samples ({x_test.shape[0]*100/df_dum.shape[0]:.2f}%)\")"
      ]
    },
    {
      "cell_type": "markdown",
      "metadata": {
        "id": "7AXW7voq4hOb"
      },
      "source": [
        "#### **Dimensionality Reduction**"
      ]
    },
    {
      "cell_type": "markdown",
      "metadata": {
        "id": "QUHZXa9J4lj_"
      },
      "source": [
        "##### *Feature Scaling*"
      ]
    },
    {
      "cell_type": "code",
      "execution_count": null,
      "metadata": {
        "colab": {
          "base_uri": "https://localhost:8080/",
          "height": 0
        },
        "id": "tgWAyUPF4kxg",
        "outputId": "58a9e187-22ef-4f51-ff33-8bec4aed8690"
      },
      "outputs": [],
      "source": [
        "# Feature scaling, use \"StandardScaler\"\n",
        "sc = StandardScaler()\n",
        "x_train_sc = sc.fit_transform(x_train)\n",
        "df_train_sc = pd.DataFrame(x_train_sc, columns=x_train.columns)\n",
        "df_train_sc.head()"
      ]
    },
    {
      "cell_type": "markdown",
      "metadata": {
        "id": "Yh-rYAry4DvR"
      },
      "source": [
        "#### **Train Model**"
      ]
    },
    {
      "cell_type": "markdown",
      "metadata": {
        "id": "hGKKQ1Ze4RWu"
      },
      "source": [
        "##### *Algorithm Comparison*"
      ]
    },
    {
      "cell_type": "code",
      "execution_count": null,
      "metadata": {
        "id": "I70sANYQ_EGr"
      },
      "outputs": [],
      "source": [
        "# Choose the best algorithm\n",
        "model_list = [\n",
        "    ('mlr',LinearRegression()),\n",
        "    ('llr',Lasso(tol = 1.275e+11)),\n",
        "    ('rid',Ridge()),\n",
        "    ('enr',ElasticNet()),\n",
        "    ('rfr',RandomForestRegressor())\n",
        "]"
      ]
    },
    {
      "cell_type": "code",
      "execution_count": null,
      "metadata": {
        "id": "HxvMrqE_IwWH"
      },
      "outputs": [],
      "source": [
        "def modelCompare(models,feature,target):\n",
        "  global score\n",
        "  r_score = []\n",
        "  names = []\n",
        "  feature_sc = sc.fit_transform(feature)\n",
        "  for name, model in models:\n",
        "    cvs = cross_val_score(model,feature_sc,target,cv=10)\n",
        "    names.append(name)\n",
        "    r_score.append(cvs.mean()*100)\n",
        "    score = pd.DataFrame(list(zip(names,r_score)), columns=['Algorithm','Score(%)'])"
      ]
    },
    {
      "cell_type": "code",
      "execution_count": null,
      "metadata": {
        "colab": {
          "base_uri": "https://localhost:8080/",
          "height": 206
        },
        "id": "qyM1pUBnH8Cs",
        "outputId": "75407c70-348b-4aa8-cbfb-7ace6a1a7e34"
      },
      "outputs": [],
      "source": [
        "modelCompare(model_list,x_train,y_train)\n",
        "score"
      ]
    },
    {
      "cell_type": "code",
      "execution_count": null,
      "metadata": {
        "colab": {
          "base_uri": "https://localhost:8080/"
        },
        "id": "GHd9TiyTWFbT",
        "outputId": "23849df2-dddd-443a-abe5-e91e5efbfef8"
      },
      "outputs": [],
      "source": [
        "# Choose models with the highest efficiency\n",
        "idx_max = score['Score(%)'].idxmax()\n",
        "model = model_list[idx_max][1]\n",
        "print(f\"The algorithm '{model}' has the highest efficiency were {score['Score(%)'].max():.2f}%\")"
      ]
    },
    {
      "cell_type": "markdown",
      "metadata": {
        "id": "swSBKfQ58FAr"
      },
      "source": [
        "##### *Model Tuning*\n"
      ]
    },
    {
      "cell_type": "code",
      "execution_count": null,
      "metadata": {
        "id": "2TLm69c6rjCK"
      },
      "outputs": [],
      "source": [
        "# Model tuning, use \"Grid Search\"\n",
        "param_dist = {\n",
        "    'criterion' : ['squared_error','absolute_error','friedman_mse','poisson'],\n",
        "    'max_features' : [1.0,'sqrt','log2'],\n",
        "}\n",
        "grid_search = GridSearchCV(estimator=model, param_grid=param_dist, verbose=0, n_jobs=-1)\n",
        "grid_result = grid_search.fit(x_train_sc, y_train)"
      ]
    },
    {
      "cell_type": "code",
      "execution_count": null,
      "metadata": {
        "colab": {
          "base_uri": "https://localhost:8080/"
        },
        "id": "N2jTgAybdeNq",
        "outputId": "a5b8359f-f68b-400e-9737-83554ebb7970"
      },
      "outputs": [],
      "source": [
        "print(f\"High efficiency for the model after turning were {(grid_search.best_score_)*100:.2f}%\")\n",
        "print(f\"Parameter obtained from tuning : {grid_search.best_params_}\")\n",
        "print(f\"Use parameter : {model.get_params()}\")"
      ]
    },
    {
      "cell_type": "markdown",
      "metadata": {
        "id": "hdycXfND_gc0"
      },
      "source": [
        "##### *Predict values*\n"
      ]
    },
    {
      "cell_type": "code",
      "execution_count": null,
      "metadata": {
        "id": "sgjXA22_BgKZ"
      },
      "outputs": [],
      "source": [
        "# Model parameterization\n",
        "# Create pipeline\n",
        "pipe = Pipeline([\n",
        "    ('sc', StandardScaler()),\n",
        "    ('model', grid_search.best_estimator_),\n",
        "])"
      ]
    },
    {
      "cell_type": "code",
      "execution_count": null,
      "metadata": {
        "id": "47cb7lQ2PB_e"
      },
      "outputs": [],
      "source": [
        "# Predict values\n",
        "pipe.fit(x_train, y_train)\n",
        "y_pred = pipe.predict(x_test)"
      ]
    },
    {
      "cell_type": "code",
      "execution_count": null,
      "metadata": {
        "colab": {
          "base_uri": "https://localhost:8080/",
          "height": 206
        },
        "id": "2-u6CafNBKVh",
        "outputId": "96ca90f0-cbe5-46cd-f288-e37a186f8083"
      },
      "outputs": [],
      "source": [
        "# Create a dataframe to collect the predicted values.\n",
        "result = y_test.to_frame()\n",
        "result['Predict_Values'] = y_pred\n",
        "result['Diff'] = abs(result['Weekly_Sales']-result['Predict_Values'])\n",
        "result['Diff(%)'] = (result['Diff']*100)/result['Weekly_Sales']\n",
        "result.head()"
      ]
    },
    {
      "cell_type": "code",
      "execution_count": null,
      "metadata": {
        "colab": {
          "base_uri": "https://localhost:8080/",
          "height": 463
        },
        "id": "wb2ZeVRA--pt",
        "outputId": "56ce9ca0-edcb-4920-8959-ef097f3f24cb"
      },
      "outputs": [],
      "source": [
        "# Configure the graph display\n",
        "fig, ax = plt.subplots(figsize=(20,7))\n",
        "sns.scatterplot(x=y_pred,\n",
        "                y=y_test,\n",
        "                ax=ax\n",
        "                )\n",
        "sns.lineplot(x=y_pred,\n",
        "             y=y_pred,\n",
        "             color='r',\n",
        "             ax=ax\n",
        "             )\n",
        "# Configure the title text\n",
        "ax.set_title('Result of Weekly sales', fontsize=15);\n",
        "ax.set_xlabel(\"Predict values\", fontsize=13)\n",
        "ax.set_ylabel(\"True values\", fontsize=13);"
      ]
    }
  ],
  "metadata": {
    "colab": {
      "collapsed_sections": [
        "g-MoNymwzYLg"
      ],
      "provenance": []
    },
    "kernelspec": {
      "display_name": "DataScience-nH9wYwaF",
      "language": "python",
      "name": "python3"
    },
    "language_info": {
      "codemirror_mode": {
        "name": "ipython",
        "version": 3
      },
      "file_extension": ".py",
      "mimetype": "text/x-python",
      "name": "python",
      "nbconvert_exporter": "python",
      "pygments_lexer": "ipython3",
      "version": "3.10.8"
    },
    "vscode": {
      "interpreter": {
        "hash": "83c7eeb578c770dd82a4c52a4feaed06c94e1744910a7d5e4280a84b7e0c7bb5"
      }
    }
  },
  "nbformat": 4,
  "nbformat_minor": 0
}
