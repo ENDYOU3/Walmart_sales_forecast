{
  "cells": [
    {
      "attachments": {},
      "cell_type": "markdown",
      "metadata": {
        "id": "FADXzKvob6Zj"
      },
      "source": [
        "# <center> **Data Science Project** "
      ]
    },
    {
      "attachments": {},
      "cell_type": "markdown",
      "metadata": {
        "id": "BB5CkOQVMC3Q"
      },
      "source": [
        "## <center> **Problem Definition**"
      ]
    },
    {
      "attachments": {},
      "cell_type": "markdown",
      "metadata": {
        "id": "7gm2S19RL43N"
      },
      "source": [
        "### ***Business Understanding***\n",
        "Walmart Inc. is an American multinational retail corporation that operates a chain of hypermarkets, discount department stores, and grocery stores from the United States, headquartered in Bentonville, Arkansas\n",
        "\n",
        "### ***In this project, we focused to answer the following questions***\n",
        "1. Which store has minimum and maximum sales?\n",
        "2. Which store has maximum standard deviation i.e., the sales vary a lot. Also, find out the coefficient of mean to standard deviation\n",
        "3. Which store/s has good quarterly growth rate in Q3’2012\n",
        "4. Some holidays have a negative impact on sales. Find out holidays which have higher sales than the mean sales in non-holiday season for all stores together\n",
        "5. Provide a monthly and semester view of sales in units and give insights\n",
        "6. Build prediction to forecast demand.\n",
        "\n",
        "### ***Data Understanding***\n",
        "There are sales data available for 45 stores of Walmart in Kaggle. This is the data that covers sales from 2010-02-05 to 2012-10-26.\n",
        "### ***The data contains these features***\n",
        "* This file contains anonymized information about the 45 stores, additional data related to the store and regional activity for the given dates. It contains the following fields:\n",
        ">__Walmark.csv__\n",
        "* Store - the store number\n",
        "* Date - the week of sales\n",
        "* Weekly_Sales - sales for the given department in the given store\n",
        "* Holiday_Flag - whether the week is a special holiday week (1–Holiday week, 0–Non-holiday week)\n",
        "* Temperature - average temperature in the region (fahrenheit)\n",
        "* Fuel_Price - cost of fuel in the region\n",
        "* CPI – the consumer price index\n",
        "* Unemployment - the unemployment rate\n",
        "\n",
        "*For convenience, the four holidays fall within the following weeks in the dataset.<br>(not all holidays are in the data):*\n",
        "* *Super Bowl : 12-Feb-10, 11-Feb-11, 10-Feb-12, 8-Feb-13*\n",
        "* *Labor Day : 10-Sep-10, 9-Sep-11, 7-Sep-12, 6-Sep-13*\n",
        "* *Thanksgiving : 26-Nov-10, 25-Nov-11, 23-Nov-12, 29-Nov-13*\n",
        "* *Christmas : 31-Dec-10, 30-Dec-11, 28-Dec-12, 27-Dec-13*"
      ]
    },
    {
      "attachments": {},
      "cell_type": "markdown",
      "metadata": {
        "id": "KhQNjDzPJDWV"
      },
      "source": [
        "## <center> **Data Acquisition**"
      ]
    },
    {
      "cell_type": "code",
      "execution_count": null,
      "metadata": {
        "id": "Vb0mMQ0Q2hKO"
      },
      "outputs": [
        {
          "ename": "",
          "evalue": "",
          "output_type": "error",
          "traceback": [
            "\u001b[1;31mRunning cells with 'Regression-wO02IdyG' requires the ipykernel package.\n",
            "\u001b[1;31mRun the following command to install 'ipykernel' into the Python environment. \n",
            "\u001b[1;31mCommand: 'c:/Users/summe/.virtualenvs/Regression-wO02IdyG/Scripts/python.exe -m pip install ipykernel -U --force-reinstall'"
          ]
        }
      ],
      "source": [
        "# Import necessary libraries\n",
        "import pandas as pd\n",
        "import numpy as np\n",
        "from scipy.stats import zscore\n",
        "# Library for data visualization\n",
        "import seaborn as sns\n",
        "import matplotlib.pyplot as plt\n",
        "sns.set_style('whitegrid')\n",
        "# Algorithm (Linear Regression)\n",
        "from sklearn.linear_model import LinearRegression, Lasso, Ridge, ElasticNet\n",
        "from sklearn.ensemble import RandomForestRegressor\n",
        "from sklearn.preprocessing import StandardScaler\n",
        "from sklearn.model_selection import train_test_split, cross_val_score, GridSearchCV\n",
        "from sklearn.metrics import mean_squared_error, r2_score\n",
        "from sklearn.pipeline import Pipeline"
      ]
    },
    {
      "cell_type": "code",
      "execution_count": null,
      "metadata": {
        "colab": {
          "base_uri": "https://localhost:8080/",
          "height": 206
        },
        "id": "mhXc82DqJNG9",
        "outputId": "9ea27fb0-f304-407d-881e-12fe64658260"
      },
      "outputs": [
        {
          "ename": "",
          "evalue": "",
          "output_type": "error",
          "traceback": [
            "\u001b[1;31mRunning cells with 'Regression-wO02IdyG' requires the ipykernel package.\n",
            "\u001b[1;31mRun the following command to install 'ipykernel' into the Python environment. \n",
            "\u001b[1;31mCommand: 'c:/Users/summe/.virtualenvs/Regression-wO02IdyG/Scripts/python.exe -m pip install ipykernel -U --force-reinstall'"
          ]
        }
      ],
      "source": [
        "# Load dataset\n",
        "missing_sign = ['n/a','na','nan','--','none']\n",
        "data_set = pd.read_csv('Walmart.csv', na_values=missing_sign)\n",
        "data_set.head()"
      ]
    },
    {
      "cell_type": "code",
      "execution_count": null,
      "metadata": {
        "colab": {
          "base_uri": "https://localhost:8080/"
        },
        "id": "3cj0zEY9MoGm",
        "outputId": "4f0341ba-e8fb-4b45-cffe-1c32cec2bfff"
      },
      "outputs": [
        {
          "ename": "",
          "evalue": "",
          "output_type": "error",
          "traceback": [
            "\u001b[1;31mRunning cells with 'Regression-wO02IdyG' requires the ipykernel package.\n",
            "\u001b[1;31mRun the following command to install 'ipykernel' into the Python environment. \n",
            "\u001b[1;31mCommand: 'c:/Users/summe/.virtualenvs/Regression-wO02IdyG/Scripts/python.exe -m pip install ipykernel -U --force-reinstall'"
          ]
        }
      ],
      "source": [
        "# Check information of data\n",
        "data_set.info()"
      ]
    },
    {
      "attachments": {},
      "cell_type": "markdown",
      "metadata": {
        "id": "G1MLqIfZKEuR"
      },
      "source": [
        "## <center> **Data Preparation**"
      ]
    },
    {
      "cell_type": "code",
      "execution_count": null,
      "metadata": {
        "id": "XGc4W-b0MdmH"
      },
      "outputs": [
        {
          "ename": "",
          "evalue": "",
          "output_type": "error",
          "traceback": [
            "\u001b[1;31mRunning cells with 'Regression-wO02IdyG' requires the ipykernel package.\n",
            "\u001b[1;31mRun the following command to install 'ipykernel' into the Python environment. \n",
            "\u001b[1;31mCommand: 'c:/Users/summe/.virtualenvs/Regression-wO02IdyG/Scripts/python.exe -m pip install ipykernel -U --force-reinstall'"
          ]
        }
      ],
      "source": [
        "# Convert data type \n",
        "data_set['Date'] = pd.to_datetime(data_set['Date'], format='%d-%m-%Y')\n",
        "data_set[['Store', 'Holiday_Flag']] = data_set[['Store', 'Holiday_Flag']].astype('object')"
      ]
    },
    {
      "cell_type": "code",
      "execution_count": null,
      "metadata": {
        "id": "DwJi9FBqUSEc"
      },
      "outputs": [
        {
          "ename": "",
          "evalue": "",
          "output_type": "error",
          "traceback": [
            "\u001b[1;31mRunning cells with 'Regression-wO02IdyG' requires the ipykernel package.\n",
            "\u001b[1;31mRun the following command to install 'ipykernel' into the Python environment. \n",
            "\u001b[1;31mCommand: 'c:/Users/summe/.virtualenvs/Regression-wO02IdyG/Scripts/python.exe -m pip install ipykernel -U --force-reinstall'"
          ]
        }
      ],
      "source": [
        "# Determine variable type\n",
        "cat_var = [column for column in data_set.columns if data_set[column].dtype == \"object\" and data_set[column].nunique() < 46]\n",
        "num_var = [column for column in data_set.columns if data_set[column].dtype in ['int64', 'float64']]"
      ]
    },
    {
      "cell_type": "code",
      "execution_count": null,
      "metadata": {
        "colab": {
          "base_uri": "https://localhost:8080/",
          "height": 501
        },
        "id": "Ti8cXU2Mqac2",
        "outputId": "3ec33216-136e-4488-ceb3-aea0d179a662"
      },
      "outputs": [
        {
          "ename": "",
          "evalue": "",
          "output_type": "error",
          "traceback": [
            "\u001b[1;31mRunning cells with 'Regression-wO02IdyG' requires the ipykernel package.\n",
            "\u001b[1;31mRun the following command to install 'ipykernel' into the Python environment. \n",
            "\u001b[1;31mCommand: 'c:/Users/summe/.virtualenvs/Regression-wO02IdyG/Scripts/python.exe -m pip install ipykernel -U --force-reinstall'"
          ]
        }
      ],
      "source": [
        "# Check values each columns (categorical type)\n",
        "fig, ax = plt.subplots(ncols=len(cat_var), figsize=(20,7))\n",
        "for idx,column in enumerate(cat_var):\n",
        "  sns.countplot(data=data_set,\n",
        "                x=column,\n",
        "                ax=ax[idx]\n",
        "                ).set_title(f\"Quantities of {column}\")\n",
        "  print(f\"Column : '{column}'\\nUnique values : {data_set[column].unique()}\\n\")"
      ]
    },
    {
      "cell_type": "code",
      "execution_count": null,
      "metadata": {
        "colab": {
          "base_uri": "https://localhost:8080/",
          "height": 366
        },
        "id": "sOW5-L9Rb6Zx",
        "outputId": "f8372fae-25c4-4c59-8629-a003b6d0896b"
      },
      "outputs": [
        {
          "ename": "",
          "evalue": "",
          "output_type": "error",
          "traceback": [
            "\u001b[1;31mRunning cells with 'Regression-wO02IdyG' requires the ipykernel package.\n",
            "\u001b[1;31mRun the following command to install 'ipykernel' into the Python environment. \n",
            "\u001b[1;31mCommand: 'c:/Users/summe/.virtualenvs/Regression-wO02IdyG/Scripts/python.exe -m pip install ipykernel -U --force-reinstall'"
          ]
        }
      ],
      "source": [
        "# Check values each columns (numerical type)\n",
        "fig, (ax_box, ax_hist) = plt.subplots(ncols=len(num_var), nrows=2, gridspec_kw = {\"height_ratios\": (.15, .85)}, figsize=(20,7))\n",
        "for idx,column in enumerate(num_var):\n",
        "  sns.boxplot(data=data_set, \n",
        "              x=column, \n",
        "              ax=ax_box[idx]\n",
        "              )\n",
        "  sns.histplot(data=data_set,\n",
        "               x=column,\n",
        "               ax=ax_hist[idx],\n",
        "               kde=True\n",
        "               )\n",
        "  if idx != 0:\n",
        "    ax_hist[idx].set(ylabel=\"\")\n",
        "  ax_box[idx].set(xlabel=\"\")"
      ]
    },
    {
      "cell_type": "code",
      "execution_count": null,
      "metadata": {
        "colab": {
          "base_uri": "https://localhost:8080/",
          "height": 363
        },
        "id": "r9t3Cvbvb6Zx",
        "outputId": "87cd718e-ff26-453f-fb28-0d48bb793c5b"
      },
      "outputs": [
        {
          "ename": "",
          "evalue": "",
          "output_type": "error",
          "traceback": [
            "\u001b[1;31mRunning cells with 'Regression-wO02IdyG' requires the ipykernel package.\n",
            "\u001b[1;31mRun the following command to install 'ipykernel' into the Python environment. \n",
            "\u001b[1;31mCommand: 'c:/Users/summe/.virtualenvs/Regression-wO02IdyG/Scripts/python.exe -m pip install ipykernel -U --force-reinstall'"
          ]
        }
      ],
      "source": [
        "data_set.head()"
      ]
    },
    {
      "cell_type": "code",
      "execution_count": null,
      "metadata": {
        "colab": {
          "base_uri": "https://localhost:8080/",
          "height": 300
        },
        "id": "O-LNeiwX6t8Z",
        "outputId": "8dd35d9d-e172-44f5-cc4a-d7b820d2e808"
      },
      "outputs": [
        {
          "ename": "",
          "evalue": "",
          "output_type": "error",
          "traceback": [
            "\u001b[1;31mRunning cells with 'Regression-wO02IdyG' requires the ipykernel package.\n",
            "\u001b[1;31mRun the following command to install 'ipykernel' into the Python environment. \n",
            "\u001b[1;31mCommand: 'c:/Users/summe/.virtualenvs/Regression-wO02IdyG/Scripts/python.exe -m pip install ipykernel -U --force-reinstall'"
          ]
        }
      ],
      "source": [
        "# Check statistic of data (numerical type)\n",
        "data_set.describe()"
      ]
    },
    {
      "attachments": {},
      "cell_type": "markdown",
      "metadata": {
        "id": "yQrmmpFROA9U"
      },
      "source": [
        "### **Data Cleansing**"
      ]
    },
    {
      "cell_type": "code",
      "execution_count": null,
      "metadata": {
        "id": "OFK8ci2Zb6Zy"
      },
      "outputs": [
        {
          "ename": "",
          "evalue": "",
          "output_type": "error",
          "traceback": [
            "\u001b[1;31mRunning cells with 'Regression-wO02IdyG' requires the ipykernel package.\n",
            "\u001b[1;31mRun the following command to install 'ipykernel' into the Python environment. \n",
            "\u001b[1;31mCommand: 'c:/Users/summe/.virtualenvs/Regression-wO02IdyG/Scripts/python.exe -m pip install ipykernel -U --force-reinstall'"
          ]
        }
      ],
      "source": [
        "df = data_set.copy()"
      ]
    },
    {
      "attachments": {},
      "cell_type": "markdown",
      "metadata": {
        "id": "xi-op1PvvGjH"
      },
      "source": [
        "#### *Data Missing*"
      ]
    },
    {
      "cell_type": "code",
      "execution_count": null,
      "metadata": {},
      "outputs": [
        {
          "ename": "",
          "evalue": "",
          "output_type": "error",
          "traceback": [
            "\u001b[1;31mRunning cells with 'Regression-wO02IdyG' requires the ipykernel package.\n",
            "\u001b[1;31mRun the following command to install 'ipykernel' into the Python environment. \n",
            "\u001b[1;31mCommand: 'c:/Users/summe/.virtualenvs/Regression-wO02IdyG/Scripts/python.exe -m pip install ipykernel -U --force-reinstall'"
          ]
        }
      ],
      "source": [
        "# Check missing values\n",
        "missing_count = df.isnull().sum()\n",
        "total_cells = np.product(df.shape)\n",
        "total_missing = missing_count.sum()\n",
        "percent_missing = total_missing*100/total_cells\n",
        "print(f\"Percentage of missing values : {percent_missing} %\")"
      ]
    },
    {
      "attachments": {},
      "cell_type": "markdown",
      "metadata": {
        "id": "8prFhy13wPuh"
      },
      "source": [
        "#### *Data Outlier*"
      ]
    },
    {
      "cell_type": "code",
      "execution_count": null,
      "metadata": {},
      "outputs": [
        {
          "ename": "",
          "evalue": "",
          "output_type": "error",
          "traceback": [
            "\u001b[1;31mRunning cells with 'Regression-wO02IdyG' requires the ipykernel package.\n",
            "\u001b[1;31mRun the following command to install 'ipykernel' into the Python environment. \n",
            "\u001b[1;31mCommand: 'c:/Users/summe/.virtualenvs/Regression-wO02IdyG/Scripts/python.exe -m pip install ipykernel -U --force-reinstall'"
          ]
        }
      ],
      "source": [
        "# Identifying Outliers with IQR (Interquartile range)\n",
        "def cleanOutlier_IQR(data, num_cols):\n",
        "    count = 1\n",
        "    while count != 0:\n",
        "        count = 0\n",
        "        for column in num_cols: \n",
        "            q1 = data[column].quantile(0.25)\n",
        "            q3 = data[column].quantile(0.75)\n",
        "            iqr = q3-q1\n",
        "            upper_whisker = q3+(1.5*iqr)\n",
        "            lower_whisker = q1-(1.5*iqr)\n",
        "            idx_out = data.loc[(data[column]>upper_whisker) | (data[column]<lower_whisker)].index\n",
        "            data.drop(idx_out, inplace=True)\n",
        "            count += len(idx_out)\n",
        "    qty_outlier = data_set.shape[0]-data.shape[0]\n",
        "    percent_outlier = (qty_outlier*100)/data_set.shape[0]\n",
        "    print(f'Outlier : {qty_outlier} units ({percent_outlier:.2f}%)')\n",
        "    data.reset_index(drop=True, inplace=True)"
      ]
    },
    {
      "cell_type": "code",
      "execution_count": null,
      "metadata": {},
      "outputs": [
        {
          "ename": "",
          "evalue": "",
          "output_type": "error",
          "traceback": [
            "\u001b[1;31mRunning cells with 'Regression-wO02IdyG' requires the ipykernel package.\n",
            "\u001b[1;31mRun the following command to install 'ipykernel' into the Python environment. \n",
            "\u001b[1;31mCommand: 'c:/Users/summe/.virtualenvs/Regression-wO02IdyG/Scripts/python.exe -m pip install ipykernel -U --force-reinstall'"
          ]
        }
      ],
      "source": [
        "cleanOutlier_IQR(df, num_var)\n",
        "print(f'Sample before clear outlier : {data_set.shape[0]:,} units')\n",
        "print(f'Sample after clear outlier : {df.shape[0]:,} units')"
      ]
    },
    {
      "cell_type": "code",
      "execution_count": null,
      "metadata": {},
      "outputs": [
        {
          "ename": "",
          "evalue": "",
          "output_type": "error",
          "traceback": [
            "\u001b[1;31mRunning cells with 'Regression-wO02IdyG' requires the ipykernel package.\n",
            "\u001b[1;31mRun the following command to install 'ipykernel' into the Python environment. \n",
            "\u001b[1;31mCommand: 'c:/Users/summe/.virtualenvs/Regression-wO02IdyG/Scripts/python.exe -m pip install ipykernel -U --force-reinstall'"
          ]
        }
      ],
      "source": [
        "# Plot distribution of data (numerical variable)\n",
        "fig, ax = plt.subplots(ncols=2, figsize=(20,7))\n",
        "sns.boxplot(data=pd.melt(zscore(data_set[num_var])),\n",
        "            x='variable',\n",
        "            y='value',\n",
        "            ax=ax[0]\n",
        "            ).set_title('Data before clear outlier')\n",
        "sns.boxplot(data=pd.melt(zscore(df[num_var])),\n",
        "            x='variable',\n",
        "            y='value',\n",
        "            ax=ax[1]\n",
        "            ).set_title('Data after clear outlier');"
      ]
    },
    {
      "attachments": {},
      "cell_type": "markdown",
      "metadata": {
        "id": "g-MoNymwzYLg"
      },
      "source": [
        "#### *Duplicate Data*"
      ]
    },
    {
      "cell_type": "code",
      "execution_count": null,
      "metadata": {
        "id": "SizcdD7tb6Z1"
      },
      "outputs": [
        {
          "ename": "",
          "evalue": "",
          "output_type": "error",
          "traceback": [
            "\u001b[1;31mRunning cells with 'Regression-wO02IdyG' requires the ipykernel package.\n",
            "\u001b[1;31mRun the following command to install 'ipykernel' into the Python environment. \n",
            "\u001b[1;31mCommand: 'c:/Users/summe/.virtualenvs/Regression-wO02IdyG/Scripts/python.exe -m pip install ipykernel -U --force-reinstall'"
          ]
        }
      ],
      "source": [
        "# Check duplicate data\n",
        "def cleanDuplicated(data):\n",
        "    count_duplicated = data.duplicated().sum()\n",
        "    print(f\"Duplicated : {count_duplicated} ea.\")\n",
        "    if count_duplicated != 0:\n",
        "        data.drop_duplicates(inplace=True)\n",
        "        print('Clean duplicate data complete!')"
      ]
    },
    {
      "cell_type": "code",
      "execution_count": null,
      "metadata": {
        "colab": {
          "base_uri": "https://localhost:8080/"
        },
        "id": "NvyRSXZP8JXa",
        "outputId": "0a1f1c7b-b4bf-4a10-b7d8-3baa5bc11ce2"
      },
      "outputs": [
        {
          "ename": "",
          "evalue": "",
          "output_type": "error",
          "traceback": [
            "\u001b[1;31mRunning cells with 'Regression-wO02IdyG' requires the ipykernel package.\n",
            "\u001b[1;31mRun the following command to install 'ipykernel' into the Python environment. \n",
            "\u001b[1;31mCommand: 'c:/Users/summe/.virtualenvs/Regression-wO02IdyG/Scripts/python.exe -m pip install ipykernel -U --force-reinstall'"
          ]
        }
      ],
      "source": [
        "cleanDuplicated(df)"
      ]
    },
    {
      "attachments": {},
      "cell_type": "markdown",
      "metadata": {
        "id": "a3I3Ctn70JQe"
      },
      "source": [
        "## <center> **Exploratory data analysis**"
      ]
    },
    {
      "attachments": {},
      "cell_type": "markdown",
      "metadata": {
        "id": "Kx4jIRZvBY8U"
      },
      "source": [
        "### **Question 1:** *Which store has minimum and maximum sales?*"
      ]
    },
    {
      "cell_type": "code",
      "execution_count": null,
      "metadata": {
        "colab": {
          "base_uri": "https://localhost:8080/"
        },
        "id": "atJXSBuxBgTr",
        "outputId": "db088737-24ec-4713-9a45-a946df6251df"
      },
      "outputs": [
        {
          "ename": "",
          "evalue": "",
          "output_type": "error",
          "traceback": [
            "\u001b[1;31mRunning cells with 'Regression-wO02IdyG' requires the ipykernel package.\n",
            "\u001b[1;31mRun the following command to install 'ipykernel' into the Python environment. \n",
            "\u001b[1;31mCommand: 'c:/Users/summe/.virtualenvs/Regression-wO02IdyG/Scripts/python.exe -m pip install ipykernel -U --force-reinstall'"
          ]
        }
      ],
      "source": [
        "# Total weekly sales for each store\n",
        "total_sales = data_set.groupby('Store')['Weekly_Sales'].sum()\n",
        "print(f'Store {total_sales.idxmax()} has maximum sales : {total_sales.max():,.2f} USD')\n",
        "print(f'Store {total_sales.idxmin()} has minimum sales : {total_sales.min():,.2f} USD')"
      ]
    },
    {
      "cell_type": "code",
      "execution_count": null,
      "metadata": {
        "colab": {
          "base_uri": "https://localhost:8080/",
          "height": 383
        },
        "id": "DzTPxgA-DDXJ",
        "outputId": "065e0818-96ea-46f9-a2c5-f780498d64d2"
      },
      "outputs": [
        {
          "ename": "",
          "evalue": "",
          "output_type": "error",
          "traceback": [
            "\u001b[1;31mRunning cells with 'Regression-wO02IdyG' requires the ipykernel package.\n",
            "\u001b[1;31mRun the following command to install 'ipykernel' into the Python environment. \n",
            "\u001b[1;31mCommand: 'c:/Users/summe/.virtualenvs/Regression-wO02IdyG/Scripts/python.exe -m pip install ipykernel -U --force-reinstall'"
          ]
        }
      ],
      "source": [
        "# Plot properties (total sales)\n",
        "# Configure the graph display \n",
        "plt.figure(figsize=(20,7))\n",
        "ax = sns.barplot(x=total_sales.index,\n",
        "                 y=total_sales.values,\n",
        "                 order=total_sales.sort_values().index\n",
        "                 )\n",
        "# Configure the title text\n",
        "ax.set_title(\"Total weekly sales for each Store\", fontsize=15)\n",
        "ax.set_xlabel(\"Store number\", fontsize=13)\n",
        "ax.set_ylabel(\"Total sales (USD)\", fontsize=13);"
      ]
    },
    {
      "attachments": {},
      "cell_type": "markdown",
      "metadata": {
        "id": "-4A-ESKLDv_B"
      },
      "source": [
        "### **Question 2:** *Which store has maximum standard deviation i.e., the sales vary a lot. Also, find out the coefficient of mean to standard deviation*"
      ]
    },
    {
      "cell_type": "code",
      "execution_count": null,
      "metadata": {
        "colab": {
          "base_uri": "https://localhost:8080/",
          "height": 269
        },
        "id": "BZQgkRJjD6A9",
        "outputId": "67f8cb09-e03e-422b-b11f-fe8506b10d01"
      },
      "outputs": [
        {
          "ename": "",
          "evalue": "",
          "output_type": "error",
          "traceback": [
            "\u001b[1;31mRunning cells with 'Regression-wO02IdyG' requires the ipykernel package.\n",
            "\u001b[1;31mRun the following command to install 'ipykernel' into the Python environment. \n",
            "\u001b[1;31mCommand: 'c:/Users/summe/.virtualenvs/Regression-wO02IdyG/Scripts/python.exe -m pip install ipykernel -U --force-reinstall'"
          ]
        }
      ],
      "source": [
        "# Combining statistics results in weekly sales for each store. (standard deviation and mean)\n",
        "sales_stats = data_set.groupby('Store').agg({'Weekly_Sales':['std','mean']})\n",
        "sales_stats['Coefficient'] = sales_stats['Weekly_Sales']['std']/sales_stats['Weekly_Sales']['mean']\n",
        "sales_stats.sort_values(('Weekly_Sales','std'), ascending=False).head()"
      ]
    },
    {
      "cell_type": "code",
      "execution_count": null,
      "metadata": {
        "colab": {
          "base_uri": "https://localhost:8080/"
        },
        "id": "AhsA7SUk6pL1",
        "outputId": "4fb383fa-dd7d-4eae-bc2e-67ee565c3193"
      },
      "outputs": [
        {
          "ename": "",
          "evalue": "",
          "output_type": "error",
          "traceback": [
            "\u001b[1;31mRunning cells with 'Regression-wO02IdyG' requires the ipykernel package.\n",
            "\u001b[1;31mRun the following command to install 'ipykernel' into the Python environment. \n",
            "\u001b[1;31mCommand: 'c:/Users/summe/.virtualenvs/Regression-wO02IdyG/Scripts/python.exe -m pip install ipykernel -U --force-reinstall'"
          ]
        }
      ],
      "source": [
        "# The highest standard deviation of sales\n",
        "max_std = sales_stats['Weekly_Sales']['std'].max()\n",
        "idx_max_std = sales_stats['Weekly_Sales']['std'].idxmax()\n",
        "print(f\"Store {idx_max_std} has the highest standard deviation of sales : {max_std:,.2f}\")\n",
        "print(f\"Coefficient of mean to standard deviation : {sales_stats['Coefficient'].loc[idx_max_std]:.2f}\")"
      ]
    },
    {
      "cell_type": "code",
      "execution_count": null,
      "metadata": {
        "colab": {
          "base_uri": "https://localhost:8080/",
          "height": 384
        },
        "id": "NovriNYXLACg",
        "outputId": "1a5fa623-6070-4e6e-93e2-7556d3e0403d"
      },
      "outputs": [
        {
          "ename": "",
          "evalue": "",
          "output_type": "error",
          "traceback": [
            "\u001b[1;31mRunning cells with 'Regression-wO02IdyG' requires the ipykernel package.\n",
            "\u001b[1;31mRun the following command to install 'ipykernel' into the Python environment. \n",
            "\u001b[1;31mCommand: 'c:/Users/summe/.virtualenvs/Regression-wO02IdyG/Scripts/python.exe -m pip install ipykernel -U --force-reinstall'"
          ]
        }
      ],
      "source": [
        "# Plot properties (distribution of sales)\n",
        "data_plot = data_set.loc[data_set['Store']==idx_max_std, ['Weekly_Sales']]\n",
        "# Configure the graph display \n",
        "fig, (ax_box, ax_hist) = plt.subplots(nrows=2, gridspec_kw = {\"height_ratios\": (.15, .85)}, figsize=(20,7))\n",
        "sns.boxplot(data=data_plot, x='Weekly_Sales', ax=ax_box)\n",
        "sns.histplot(data=data_plot, x='Weekly_Sales', kde=True, ax=ax_hist)\n",
        "ax_box.set(xlabel='')\n",
        "# Configure the title text\n",
        "ax_box.set_title(f\"Distribution of sales for store {idx_max_std}\", fontsize=15)\n",
        "ax_hist.set_xlabel(\"Weekly sales (USD)\", fontsize=13)\n",
        "ax_hist.set_ylabel(\"Count\", fontsize=13);"
      ]
    },
    {
      "attachments": {},
      "cell_type": "markdown",
      "metadata": {
        "id": "tA22w1tKPixY"
      },
      "source": [
        "### **Question 3:** *Which store/s has good quarterly growth rate in Q3’2012*"
      ]
    },
    {
      "cell_type": "code",
      "execution_count": null,
      "metadata": {
        "id": "N644CXUcPoCr"
      },
      "outputs": [
        {
          "ename": "",
          "evalue": "",
          "output_type": "error",
          "traceback": [
            "\u001b[1;31mRunning cells with 'Regression-wO02IdyG' requires the ipykernel package.\n",
            "\u001b[1;31mRun the following command to install 'ipykernel' into the Python environment. \n",
            "\u001b[1;31mCommand: 'c:/Users/summe/.virtualenvs/Regression-wO02IdyG/Scripts/python.exe -m pip install ipykernel -U --force-reinstall'"
          ]
        }
      ],
      "source": [
        "col_use = ['Store','Date','Weekly_Sales']\n",
        "df_growth = data_set[col_use].copy()\n",
        "# Create new columns 'Year' and 'Quarter'\n",
        "df_growth['Year'] = df_growth['Date'].dt.year\n",
        "df_growth['Quarter'] = df_growth['Date'].dt.quarter"
      ]
    },
    {
      "cell_type": "code",
      "execution_count": null,
      "metadata": {
        "id": "9UIa_wLixRDa"
      },
      "outputs": [
        {
          "ename": "",
          "evalue": "",
          "output_type": "error",
          "traceback": [
            "\u001b[1;31mRunning cells with 'Regression-wO02IdyG' requires the ipykernel package.\n",
            "\u001b[1;31mRun the following command to install 'ipykernel' into the Python environment. \n",
            "\u001b[1;31mCommand: 'c:/Users/summe/.virtualenvs/Regression-wO02IdyG/Scripts/python.exe -m pip install ipykernel -U --force-reinstall'"
          ]
        }
      ],
      "source": [
        "# Only data for the year 2012 was filtered\n",
        "# Quanter 2\n",
        "quarter_2 = df_growth.loc[(df_growth['Year']==2012)&(df_growth['Quarter']==2)]\n",
        "sales_Q2 = quarter_2.groupby('Store').agg({'Weekly_Sales':sum}).rename(columns={'Weekly_Sales':'Total_Sales_Q2'})\n",
        "# Quarter 3\n",
        "quarter_3 = df_growth.loc[(df_growth['Year']==2012)&(df_growth['Quarter']==3)]\n",
        "sales_Q3 = quarter_3.groupby('Store').agg({'Weekly_Sales':sum}).rename(columns={'Weekly_Sales':'Total_Sales_Q3'})"
      ]
    },
    {
      "cell_type": "code",
      "execution_count": null,
      "metadata": {
        "colab": {
          "base_uri": "https://localhost:8080/",
          "height": 238
        },
        "id": "g8T9QOSAxRwE",
        "outputId": "40aad17e-42a9-42c9-f0fb-52d1b515a708"
      },
      "outputs": [
        {
          "ename": "",
          "evalue": "",
          "output_type": "error",
          "traceback": [
            "\u001b[1;31mRunning cells with 'Regression-wO02IdyG' requires the ipykernel package.\n",
            "\u001b[1;31mRun the following command to install 'ipykernel' into the Python environment. \n",
            "\u001b[1;31mCommand: 'c:/Users/summe/.virtualenvs/Regression-wO02IdyG/Scripts/python.exe -m pip install ipykernel -U --force-reinstall'"
          ]
        }
      ],
      "source": [
        "# Combining data from quarters 2 and 3\n",
        "growth_rate = sales_Q2.merge(sales_Q3, on='Store')\n",
        "growth_rate['Growth_Rate'] = (growth_rate['Total_Sales_Q3']-growth_rate['Total_Sales_Q2'])*100/growth_rate['Total_Sales_Q2']\n",
        "growth_rate.sort_values('Growth_Rate', ascending=False).head()"
      ]
    },
    {
      "cell_type": "code",
      "execution_count": null,
      "metadata": {
        "colab": {
          "base_uri": "https://localhost:8080/"
        },
        "id": "XzyY74vMvbKj",
        "outputId": "a5e5c58a-b38c-42e0-ea6f-c8c9c1e37a01"
      },
      "outputs": [
        {
          "ename": "",
          "evalue": "",
          "output_type": "error",
          "traceback": [
            "\u001b[1;31mRunning cells with 'Regression-wO02IdyG' requires the ipykernel package.\n",
            "\u001b[1;31mRun the following command to install 'ipykernel' into the Python environment. \n",
            "\u001b[1;31mCommand: 'c:/Users/summe/.virtualenvs/Regression-wO02IdyG/Scripts/python.exe -m pip install ipykernel -U --force-reinstall'"
          ]
        }
      ],
      "source": [
        "# The highest and the lowest growth rates in Q3 2012\n",
        "print(f\"Store {growth_rate['Growth_Rate'].idxmax()} has the highest growth rate of {growth_rate['Growth_Rate'].max():.2f}%.\")\n",
        "print(f\"Store {growth_rate['Growth_Rate'].idxmin()} has the lowest growth rate of {growth_rate['Growth_Rate'].min():.2f}%.\")"
      ]
    },
    {
      "cell_type": "code",
      "execution_count": null,
      "metadata": {
        "colab": {
          "base_uri": "https://localhost:8080/",
          "height": 692
        },
        "id": "a6kjDpr333m-",
        "outputId": "44b1d24f-3ae5-432b-f6b7-65df0195319d"
      },
      "outputs": [
        {
          "ename": "",
          "evalue": "",
          "output_type": "error",
          "traceback": [
            "\u001b[1;31mRunning cells with 'Regression-wO02IdyG' requires the ipykernel package.\n",
            "\u001b[1;31mRun the following command to install 'ipykernel' into the Python environment. \n",
            "\u001b[1;31mCommand: 'c:/Users/summe/.virtualenvs/Regression-wO02IdyG/Scripts/python.exe -m pip install ipykernel -U --force-reinstall'"
          ]
        }
      ],
      "source": [
        "# Plot properties (total sales and growth rate 2012 in quarter 2 and 3 for each store)\n",
        "# Configure the graph display and title text\n",
        "# Total sales\n",
        "df_plot = pd.melt(growth_rate.drop('Growth_Rate',axis=1), ignore_index=False)\n",
        "fig, ax = plt.subplots(nrows=2, figsize=(20,14))\n",
        "sns.barplot(x=df_plot.index,\n",
        "            y=df_plot['value'],\n",
        "            hue=df_plot['variable'],\n",
        "            ax=ax[0]\n",
        "            )\n",
        "ax[0].set_title(\"Total sales 2012 in quarter 2 and 3 for each store\", fontsize=15)\n",
        "ax[0].set_xlabel(\"Store number\", fontsize=13)\n",
        "ax[0].set_ylabel(\"Total sales (USD)\", fontsize=13)\n",
        "ax[0].legend(title='Quarter', fontsize=10)\n",
        "# Growth rate\n",
        "sns.barplot(x=growth_rate.index,\n",
        "            y=growth_rate['Growth_Rate'],\n",
        "            ax=ax[1]\n",
        "            )\n",
        "ax[1].set_title(\"Growth rate in the third quarter of 2012\", fontsize=15)\n",
        "ax[1].set_xlabel(\"Store number\", fontsize=13)\n",
        "ax[1].set_ylabel(\"Growth rate\", fontsize=13);"
      ]
    },
    {
      "attachments": {},
      "cell_type": "markdown",
      "metadata": {
        "id": "EE-ZxFvWiOm2"
      },
      "source": [
        "### **Question 4:** *Some holidays have a negative impact on sales. Find out holidays which have higher sales than the mean sales in non-holiday season for all stores together*\n",
        "* Super Bowl : 12-Feb-10, 11-Feb-11, 10-Feb-12, 8-Feb-13\n",
        "* Labor Day : 10-Sep-10, 9-Sep-11, 7-Sep-12, 6-Sep-13\n",
        "* Thanksgiving : 26-Nov-10, 25-Nov-11, 23-Nov-12, 29-Nov-13\n",
        "* Christmas : 31-Dec-10, 30-Dec-11, 28-Dec-12, 27-Dec-13"
      ]
    },
    {
      "cell_type": "code",
      "execution_count": null,
      "metadata": {
        "id": "jDmMi2p4ppdS"
      },
      "outputs": [
        {
          "ename": "",
          "evalue": "",
          "output_type": "error",
          "traceback": [
            "\u001b[1;31mRunning cells with 'Regression-wO02IdyG' requires the ipykernel package.\n",
            "\u001b[1;31mRun the following command to install 'ipykernel' into the Python environment. \n",
            "\u001b[1;31mCommand: 'c:/Users/summe/.virtualenvs/Regression-wO02IdyG/Scripts/python.exe -m pip install ipykernel -U --force-reinstall'"
          ]
        }
      ],
      "source": [
        "col_use = ['Date','Weekly_Sales','Holiday_Flag']\n",
        "df_holiday = data_set.loc[data_set['Holiday_Flag']==1, col_use].copy()\n",
        "holiday_list = {\n",
        "    'Super Bowl Date' : pd.to_datetime(['2010-02-12','2011-02-11','2012-02-10']),\n",
        "    'Labor Day' : pd.to_datetime(['2010-09-10','2011-09-09','2012-09-07']),\n",
        "    'Thanksgiving' : pd.to_datetime(['2010-11-26','2011-11-25','2012-11-23']),\n",
        "    'Christmas' : pd.to_datetime(['2010-12-31','2011-12-30','2012-12-28'])\n",
        "}\n",
        "# Create new columns 'Holiday'\n",
        "for i in holiday_list:\n",
        "  df_holiday.loc[df_holiday['Date'].isin(holiday_list[i]), 'Holiday'] = i"
      ]
    },
    {
      "cell_type": "code",
      "execution_count": null,
      "metadata": {
        "colab": {
          "base_uri": "https://localhost:8080/",
          "height": 206
        },
        "id": "dZn20t2o1lfi",
        "outputId": "f23f4a0e-1883-4218-d2c1-fba9fe80c57a"
      },
      "outputs": [
        {
          "ename": "",
          "evalue": "",
          "output_type": "error",
          "traceback": [
            "\u001b[1;31mRunning cells with 'Regression-wO02IdyG' requires the ipykernel package.\n",
            "\u001b[1;31mRun the following command to install 'ipykernel' into the Python environment. \n",
            "\u001b[1;31mCommand: 'c:/Users/summe/.virtualenvs/Regression-wO02IdyG/Scripts/python.exe -m pip install ipykernel -U --force-reinstall'"
          ]
        }
      ],
      "source": [
        "# Mean sales for each holiday\n",
        "# Holiday\n",
        "mean_sales_holiday = df_holiday.groupby('Holiday')['Weekly_Sales'].mean().to_frame(name='Mean_Sales')\n",
        "# Non-Holiday\n",
        "non_holiday = {\n",
        "    'Mean_Sales': data_set.loc[data_set['Holiday_Flag']==0, 'Weekly_Sales'].mean()\n",
        "}\n",
        "df_non_holiday = pd.DataFrame([non_holiday],index=['Normal Day'])\n",
        "# Combining data from mean sales in holiday and non-holiday\n",
        "mean_sales = pd.concat([mean_sales_holiday,df_non_holiday], axis=0)\n",
        "mean_sales"
      ]
    },
    {
      "cell_type": "code",
      "execution_count": null,
      "metadata": {
        "colab": {
          "base_uri": "https://localhost:8080/"
        },
        "id": "ccWbCULW8O1w",
        "outputId": "093b75b4-d1ad-4393-8f63-972274be271a"
      },
      "outputs": [
        {
          "ename": "",
          "evalue": "",
          "output_type": "error",
          "traceback": [
            "\u001b[1;31mRunning cells with 'Regression-wO02IdyG' requires the ipykernel package.\n",
            "\u001b[1;31mRun the following command to install 'ipykernel' into the Python environment. \n",
            "\u001b[1;31mCommand: 'c:/Users/summe/.virtualenvs/Regression-wO02IdyG/Scripts/python.exe -m pip install ipykernel -U --force-reinstall'"
          ]
        }
      ],
      "source": [
        "# The highest mean sales\n",
        "print(f\"'{mean_sales['Mean_Sales'].idxmax()}' holiday has higher sales than another events : {mean_sales['Mean_Sales'].max():,.2f} USD\")"
      ]
    },
    {
      "cell_type": "code",
      "execution_count": null,
      "metadata": {
        "colab": {
          "base_uri": "https://localhost:8080/",
          "height": 383
        },
        "id": "Pd5xM_AUyWDh",
        "outputId": "20833bec-cdd1-45f1-a8ff-bc1c84c0589b"
      },
      "outputs": [
        {
          "ename": "",
          "evalue": "",
          "output_type": "error",
          "traceback": [
            "\u001b[1;31mRunning cells with 'Regression-wO02IdyG' requires the ipykernel package.\n",
            "\u001b[1;31mRun the following command to install 'ipykernel' into the Python environment. \n",
            "\u001b[1;31mCommand: 'c:/Users/summe/.virtualenvs/Regression-wO02IdyG/Scripts/python.exe -m pip install ipykernel -U --force-reinstall'"
          ]
        }
      ],
      "source": [
        "# Plot properties (Mean sales for each store)\n",
        "# Configure the graph display\n",
        "plt.figure(figsize=(20,7))\n",
        "ax = sns.barplot(x=mean_sales.index, \n",
        "                 y=mean_sales['Mean_Sales'], \n",
        "                 palette='pastel'\n",
        "                 )\n",
        "# Configure the title text\n",
        "for index, row in mean_sales.reset_index().iterrows():\n",
        "  ax.text(index, row['Mean_Sales']*1.01, '{:,.2f}'.format(row['Mean_Sales']), ha='center', color='black')\n",
        "ax.set_title(f\"Mean sales for each holiday\", fontsize=15)\n",
        "ax.set_xlabel(\"Holiday name\", fontsize=13)\n",
        "ax.set_ylabel(\"Mean sales (USD)\", fontsize=13);"
      ]
    },
    {
      "attachments": {},
      "cell_type": "markdown",
      "metadata": {
        "id": "_aubDjrsMgYM"
      },
      "source": [
        "### **Question 5:** *Provide a monthly and semester view of sales in units and give insights*"
      ]
    },
    {
      "cell_type": "code",
      "execution_count": null,
      "metadata": {
        "id": "nQ6IBR9DMq3n"
      },
      "outputs": [
        {
          "ename": "",
          "evalue": "",
          "output_type": "error",
          "traceback": [
            "\u001b[1;31mRunning cells with 'Regression-wO02IdyG' requires the ipykernel package.\n",
            "\u001b[1;31mRun the following command to install 'ipykernel' into the Python environment. \n",
            "\u001b[1;31mCommand: 'c:/Users/summe/.virtualenvs/Regression-wO02IdyG/Scripts/python.exe -m pip install ipykernel -U --force-reinstall'"
          ]
        }
      ],
      "source": [
        "col_use = ['Weekly_Sales','Date']\n",
        "df_sum = df[col_use].copy()\n",
        "# Create new column 'Month','Year' and 'Semester'\n",
        "df_sum['Month'] = df_sum['Date'].dt.month\n",
        "df_sum['Year'] = df_sum['Date'].dt.year\n",
        "year = df_sum['Year'].unique()\n",
        "Semester = {\n",
        "    'Semester_1' : np.arange(1,7),\n",
        "    'Semester_2' : np.arange(6,13)\n",
        "    }\n",
        "for idy,y in enumerate(year):\n",
        "    for ids,s in enumerate(Semester):\n",
        "        df_sum.loc[(df_sum['Month'].isin(Semester[s]))&(df_sum['Year']==y), 'Semester'] = ids+1+(idy*2)"
      ]
    },
    {
      "cell_type": "code",
      "execution_count": null,
      "metadata": {
        "colab": {
          "base_uri": "https://localhost:8080/",
          "height": 206
        },
        "id": "_An4ohWUFklA",
        "outputId": "a7cae1e6-ee04-4c1b-c401-9856e18788ce"
      },
      "outputs": [
        {
          "ename": "",
          "evalue": "",
          "output_type": "error",
          "traceback": [
            "\u001b[1;31mRunning cells with 'Regression-wO02IdyG' requires the ipykernel package.\n",
            "\u001b[1;31mRun the following command to install 'ipykernel' into the Python environment. \n",
            "\u001b[1;31mCommand: 'c:/Users/summe/.virtualenvs/Regression-wO02IdyG/Scripts/python.exe -m pip install ipykernel -U --force-reinstall'"
          ]
        }
      ],
      "source": [
        "df_sum.head()"
      ]
    },
    {
      "cell_type": "code",
      "execution_count": null,
      "metadata": {
        "colab": {
          "base_uri": "https://localhost:8080/",
          "height": 488
        },
        "id": "bW9UT8gwbJdv",
        "outputId": "c88c35c8-d7d9-4e54-f7a6-abd856bd008a"
      },
      "outputs": [
        {
          "ename": "",
          "evalue": "",
          "output_type": "error",
          "traceback": [
            "\u001b[1;31mRunning cells with 'Regression-wO02IdyG' requires the ipykernel package.\n",
            "\u001b[1;31mRun the following command to install 'ipykernel' into the Python environment. \n",
            "\u001b[1;31mCommand: 'c:/Users/summe/.virtualenvs/Regression-wO02IdyG/Scripts/python.exe -m pip install ipykernel -U --force-reinstall'"
          ]
        }
      ],
      "source": [
        "# Total monthly sales for each year\n",
        "monthly_sales = df_sum.pivot_table(index='Month', values='Weekly_Sales', columns='Year', aggfunc='sum', fill_value=0, margins=True)\n",
        "monthly_sales"
      ]
    },
    {
      "cell_type": "code",
      "execution_count": null,
      "metadata": {
        "id": "xXkA8vHyV8WW"
      },
      "outputs": [
        {
          "ename": "",
          "evalue": "",
          "output_type": "error",
          "traceback": [
            "\u001b[1;31mRunning cells with 'Regression-wO02IdyG' requires the ipykernel package.\n",
            "\u001b[1;31mRun the following command to install 'ipykernel' into the Python environment. \n",
            "\u001b[1;31mCommand: 'c:/Users/summe/.virtualenvs/Regression-wO02IdyG/Scripts/python.exe -m pip install ipykernel -U --force-reinstall'"
          ]
        }
      ],
      "source": [
        "month = {\n",
        "     1 : 'January',\n",
        "     2 : 'February',\n",
        "     3 : 'March',\n",
        "     4 : 'April',\n",
        "     5 : 'May',\n",
        "     6 : 'June',\n",
        "     7 : 'July',\n",
        "     8 : 'August',\n",
        "     9 : 'September',\n",
        "    10 : 'October',\n",
        "    11 : 'November',\n",
        "    12 : 'December'\n",
        "    }"
      ]
    },
    {
      "cell_type": "code",
      "execution_count": null,
      "metadata": {},
      "outputs": [
        {
          "ename": "",
          "evalue": "",
          "output_type": "error",
          "traceback": [
            "\u001b[1;31mRunning cells with 'Regression-wO02IdyG' requires the ipykernel package.\n",
            "\u001b[1;31mRun the following command to install 'ipykernel' into the Python environment. \n",
            "\u001b[1;31mCommand: 'c:/Users/summe/.virtualenvs/Regression-wO02IdyG/Scripts/python.exe -m pip install ipykernel -U --force-reinstall'"
          ]
        }
      ],
      "source": [
        "month.get(monthly_sales['All'][:-1].idxmax())"
      ]
    },
    {
      "cell_type": "code",
      "execution_count": null,
      "metadata": {
        "colab": {
          "base_uri": "https://localhost:8080/"
        },
        "id": "Avh-cnsOb6aL",
        "outputId": "7f09ec2a-e569-4e8e-c07e-178f67721056"
      },
      "outputs": [
        {
          "ename": "",
          "evalue": "",
          "output_type": "error",
          "traceback": [
            "\u001b[1;31mRunning cells with 'Regression-wO02IdyG' requires the ipykernel package.\n",
            "\u001b[1;31mRun the following command to install 'ipykernel' into the Python environment. \n",
            "\u001b[1;31mCommand: 'c:/Users/summe/.virtualenvs/Regression-wO02IdyG/Scripts/python.exe -m pip install ipykernel -U --force-reinstall'"
          ]
        }
      ],
      "source": [
        "print(f\"The highest annual sales (2010-2012) were {monthly_sales.loc['All'][:-1].max():,.2f} USD in {monthly_sales.loc['All'][:-1].idxmax()}.\")\n",
        "print(f\"The highest total monthly sales for 3 years (2010-2012) were {monthly_sales['All'][:-1].max():,.2f} USD in {month.get(monthly_sales['All'][:-1].idxmax())}.\\n\")\n",
        "for i in year:\n",
        "  print(f'------------------------- Year : {i} -------------------------')\n",
        "  print(f\"The highest sales in {i} were {monthly_sales[i][:-1].max():,.2f} USD in {month.get(monthly_sales[i][:-1].idxmax())}.\")\n",
        "  print(f\"The lowest sales in {i} were {monthly_sales[i][:-1].min():,.2f} USD in {month.get(monthly_sales[i][:-1].idxmin())}.\\n\")"
      ]
    },
    {
      "cell_type": "code",
      "execution_count": null,
      "metadata": {
        "colab": {
          "base_uri": "https://localhost:8080/",
          "height": 300
        },
        "id": "nqgpyHYqcxwe",
        "outputId": "f19b75c4-25e6-41c7-901d-b17d529744d6"
      },
      "outputs": [
        {
          "ename": "",
          "evalue": "",
          "output_type": "error",
          "traceback": [
            "\u001b[1;31mRunning cells with 'Regression-wO02IdyG' requires the ipykernel package.\n",
            "\u001b[1;31mRun the following command to install 'ipykernel' into the Python environment. \n",
            "\u001b[1;31mCommand: 'c:/Users/summe/.virtualenvs/Regression-wO02IdyG/Scripts/python.exe -m pip install ipykernel -U --force-reinstall'"
          ]
        }
      ],
      "source": [
        "# Total sales per semester\n",
        "semester_sales = df_sum.pivot_table(index='Semester', values='Weekly_Sales', aggfunc='sum', margins=True)\n",
        "semester_sales"
      ]
    },
    {
      "cell_type": "code",
      "execution_count": null,
      "metadata": {
        "colab": {
          "base_uri": "https://localhost:8080/"
        },
        "id": "lmoN8Si8XQN1",
        "outputId": "599b0f8c-4b13-418c-defc-237c106ac48a"
      },
      "outputs": [
        {
          "ename": "",
          "evalue": "",
          "output_type": "error",
          "traceback": [
            "\u001b[1;31mRunning cells with 'Regression-wO02IdyG' requires the ipykernel package.\n",
            "\u001b[1;31mRun the following command to install 'ipykernel' into the Python environment. \n",
            "\u001b[1;31mCommand: 'c:/Users/summe/.virtualenvs/Regression-wO02IdyG/Scripts/python.exe -m pip install ipykernel -U --force-reinstall'"
          ]
        }
      ],
      "source": [
        "print(f\"The highest sales in the semester were {semester_sales['Weekly_Sales'][:-1].max():,.2f} USD in semester {int(semester_sales['Weekly_Sales'][:-1].idxmax())}\")\n",
        "print(f\"The lowest sales in the semester were {semester_sales['Weekly_Sales'][:-1].min():,.2f} USD in semester {int(semester_sales['Weekly_Sales'][:-1].idxmin())}\")"
      ]
    },
    {
      "cell_type": "code",
      "execution_count": null,
      "metadata": {
        "colab": {
          "base_uri": "https://localhost:8080/",
          "height": 695
        },
        "id": "Ox2ao9pSb6aM",
        "outputId": "8780604a-faea-4f63-92e6-0151177b04f7"
      },
      "outputs": [
        {
          "ename": "",
          "evalue": "",
          "output_type": "error",
          "traceback": [
            "\u001b[1;31mRunning cells with 'Regression-wO02IdyG' requires the ipykernel package.\n",
            "\u001b[1;31mRun the following command to install 'ipykernel' into the Python environment. \n",
            "\u001b[1;31mCommand: 'c:/Users/summe/.virtualenvs/Regression-wO02IdyG/Scripts/python.exe -m pip install ipykernel -U --force-reinstall'"
          ]
        }
      ],
      "source": [
        "# Plot properties \n",
        "# Configure the graph display (total monthly sales)\n",
        "fig, ax = plt.subplots(nrows=2, figsize = (20,14))\n",
        "sns.lineplot(data=df_sum,\n",
        "             x='Month',\n",
        "             y='Weekly_Sales',\n",
        "             hue='Year',\n",
        "             estimator=np.sum,\n",
        "             palette='pastel',\n",
        "             errorbar=None,\n",
        "             ax=ax[0]\n",
        "             ).set_title('Total monthly sales for each year', fontsize=15)\n",
        "ax[0].set_xlabel(\"Month\", fontsize=13)\n",
        "ax[0].set_xticks(range(13), labels=range(0, 13))\n",
        "ax[0].set_ylabel(\"Total sales (USD)\", fontsize=13)\n",
        "ax[0].legend(title='Year', fontsize=10)\n",
        "# Configure the graph display (total sales per semester)\n",
        "sns.lineplot(data=df_sum,\n",
        "             x='Semester',\n",
        "             y='Weekly_Sales',\n",
        "             estimator =np.sum,\n",
        "             ax=ax[1]\n",
        "             ).set_title('Total sales per semester', fontsize=15)\n",
        "ax[1].set_xlabel(\"Semester\", fontsize=13)\n",
        "ax[1].set_ylabel(\"Total sales (USD)\", fontsize=13);"
      ]
    },
    {
      "attachments": {},
      "cell_type": "markdown",
      "metadata": {
        "id": "XXJpR6RJz6-O"
      },
      "source": [
        "## <center> **Modelling**"
      ]
    },
    {
      "attachments": {},
      "cell_type": "markdown",
      "metadata": {
        "id": "AGvgpodvSGA8"
      },
      "source": [
        "### **Question 6:** *Build prediction to forecast demand*"
      ]
    },
    {
      "attachments": {},
      "cell_type": "markdown",
      "metadata": {
        "id": "g7x1ApgP2Q6m"
      },
      "source": [
        "#### **Prepare data**"
      ]
    },
    {
      "cell_type": "code",
      "execution_count": null,
      "metadata": {
        "id": "R32QtmHNb6aN"
      },
      "outputs": [
        {
          "ename": "",
          "evalue": "",
          "output_type": "error",
          "traceback": [
            "\u001b[1;31mRunning cells with 'Regression-wO02IdyG' requires the ipykernel package.\n",
            "\u001b[1;31mRun the following command to install 'ipykernel' into the Python environment. \n",
            "\u001b[1;31mCommand: 'c:/Users/summe/.virtualenvs/Regression-wO02IdyG/Scripts/python.exe -m pip install ipykernel -U --force-reinstall'"
          ]
        }
      ],
      "source": [
        "# Use the data after \"Data Cleaning\"\n",
        "df_sales = df.copy()"
      ]
    },
    {
      "attachments": {},
      "cell_type": "markdown",
      "metadata": {
        "id": "BxhzKZOPb6aO"
      },
      "source": [
        "#### *Feature Engineering*"
      ]
    },
    {
      "cell_type": "code",
      "execution_count": null,
      "metadata": {
        "id": "7HZFm1c7Dk29"
      },
      "outputs": [
        {
          "ename": "",
          "evalue": "",
          "output_type": "error",
          "traceback": [
            "\u001b[1;31mRunning cells with 'Regression-wO02IdyG' requires the ipykernel package.\n",
            "\u001b[1;31mRun the following command to install 'ipykernel' into the Python environment. \n",
            "\u001b[1;31mCommand: 'c:/Users/summe/.virtualenvs/Regression-wO02IdyG/Scripts/python.exe -m pip install ipykernel -U --force-reinstall'"
          ]
        }
      ],
      "source": [
        "# Create new columns \"Year\", \"Month\" and \"Holiday\"\n",
        "df_sales['Month'] = df_sales['Date'].dt.month.astype(object)\n",
        "df_sales['Year'] = df_sales['Date'].dt.year.astype(object)\n",
        "for event,date in holiday_list.items():\n",
        "    df_sales.loc[df_sales['Date'].isin(date), 'Holiday'] = event\n",
        "df_sales['Holiday'].fillna(value='Non-Holiday', inplace=True)\n",
        "df_sales.drop(columns=['Holiday_Flag'], inplace=True)\n",
        "df_sales.set_index('Date', inplace=True)"
      ]
    },
    {
      "cell_type": "code",
      "execution_count": null,
      "metadata": {
        "id": "4sdJoWZIb6aQ"
      },
      "outputs": [
        {
          "ename": "",
          "evalue": "",
          "output_type": "error",
          "traceback": [
            "\u001b[1;31mRunning cells with 'Regression-wO02IdyG' requires the ipykernel package.\n",
            "\u001b[1;31mRun the following command to install 'ipykernel' into the Python environment. \n",
            "\u001b[1;31mCommand: 'c:/Users/summe/.virtualenvs/Regression-wO02IdyG/Scripts/python.exe -m pip install ipykernel -U --force-reinstall'"
          ]
        }
      ],
      "source": [
        "# Group temperature\n",
        "bins = [0, 50, 77, 86, 104]\n",
        "labels = [1, 2, 3, 4]\n",
        "df_sales['Temp'] = pd.cut(df_sales['Temperature'], bins=bins, labels=labels, include_lowest=True).astype('object')\n",
        "df_sales.drop('Temperature', axis=1, inplace=True)"
      ]
    },
    {
      "cell_type": "code",
      "execution_count": null,
      "metadata": {},
      "outputs": [
        {
          "ename": "",
          "evalue": "",
          "output_type": "error",
          "traceback": [
            "\u001b[1;31mRunning cells with 'Regression-wO02IdyG' requires the ipykernel package.\n",
            "\u001b[1;31mRun the following command to install 'ipykernel' into the Python environment. \n",
            "\u001b[1;31mCommand: 'c:/Users/summe/.virtualenvs/Regression-wO02IdyG/Scripts/python.exe -m pip install ipykernel -U --force-reinstall'"
          ]
        }
      ],
      "source": [
        "df_sales.head()"
      ]
    },
    {
      "cell_type": "code",
      "execution_count": null,
      "metadata": {
        "colab": {
          "base_uri": "https://localhost:8080/"
        },
        "id": "j9_LZVtQBVul",
        "outputId": "1cbb17a4-129a-4338-d3c1-e0940eb1c015"
      },
      "outputs": [
        {
          "ename": "",
          "evalue": "",
          "output_type": "error",
          "traceback": [
            "\u001b[1;31mRunning cells with 'Regression-wO02IdyG' requires the ipykernel package.\n",
            "\u001b[1;31mRun the following command to install 'ipykernel' into the Python environment. \n",
            "\u001b[1;31mCommand: 'c:/Users/summe/.virtualenvs/Regression-wO02IdyG/Scripts/python.exe -m pip install ipykernel -U --force-reinstall'"
          ]
        }
      ],
      "source": [
        "# Determine the category variable.\n",
        "cat_var = [col for col in df_sales.columns if df_sales[col].dtypes==\"object\"]\n",
        "print(f\"Categorical columns : {cat_var}\")"
      ]
    },
    {
      "attachments": {},
      "cell_type": "markdown",
      "metadata": {
        "id": "5oGocng12gTZ"
      },
      "source": [
        "##### *Dummies variable*"
      ]
    },
    {
      "cell_type": "code",
      "execution_count": null,
      "metadata": {
        "id": "0blOIfG4yTXM"
      },
      "outputs": [
        {
          "ename": "",
          "evalue": "",
          "output_type": "error",
          "traceback": [
            "\u001b[1;31mRunning cells with 'Regression-wO02IdyG' requires the ipykernel package.\n",
            "\u001b[1;31mRun the following command to install 'ipykernel' into the Python environment. \n",
            "\u001b[1;31mCommand: 'c:/Users/summe/.virtualenvs/Regression-wO02IdyG/Scripts/python.exe -m pip install ipykernel -U --force-reinstall'"
          ]
        }
      ],
      "source": [
        "def createDummies(data, cat_col):\n",
        "  data[cat_col] = data[cat_col].astype('category')\n",
        "  return pd.get_dummies(data, prefix=cat_col, drop_first=True)"
      ]
    },
    {
      "cell_type": "code",
      "execution_count": null,
      "metadata": {
        "colab": {
          "base_uri": "https://localhost:8080/",
          "height": 317
        },
        "id": "AaDPO-EqCnMo",
        "outputId": "50c0553c-1c73-4e40-9a02-7cc452969431"
      },
      "outputs": [
        {
          "ename": "",
          "evalue": "",
          "output_type": "error",
          "traceback": [
            "\u001b[1;31mRunning cells with 'Regression-wO02IdyG' requires the ipykernel package.\n",
            "\u001b[1;31mRun the following command to install 'ipykernel' into the Python environment. \n",
            "\u001b[1;31mCommand: 'c:/Users/summe/.virtualenvs/Regression-wO02IdyG/Scripts/python.exe -m pip install ipykernel -U --force-reinstall'"
          ]
        }
      ],
      "source": [
        "df_dum = createDummies(df_sales, cat_var)\n",
        "df_dum.head()"
      ]
    },
    {
      "attachments": {},
      "cell_type": "markdown",
      "metadata": {
        "id": "IIWn_NB82qDW"
      },
      "source": [
        "##### *Split data for train and test*\n"
      ]
    },
    {
      "cell_type": "code",
      "execution_count": null,
      "metadata": {
        "colab": {
          "base_uri": "https://localhost:8080/"
        },
        "id": "_5MadUD120bV",
        "outputId": "216401cb-2011-4ea6-d8b4-9779aceb1a50"
      },
      "outputs": [
        {
          "ename": "",
          "evalue": "",
          "output_type": "error",
          "traceback": [
            "\u001b[1;31mRunning cells with 'Regression-wO02IdyG' requires the ipykernel package.\n",
            "\u001b[1;31mRun the following command to install 'ipykernel' into the Python environment. \n",
            "\u001b[1;31mCommand: 'c:/Users/summe/.virtualenvs/Regression-wO02IdyG/Scripts/python.exe -m pip install ipykernel -U --force-reinstall'"
          ]
        }
      ],
      "source": [
        "x = df_dum.drop(columns='Weekly_Sales')\n",
        "y = df_dum['Weekly_Sales']\n",
        "# Divide the data into 2 sets: a training set and a test set.\n",
        "x_train, x_test, y_train, y_test = train_test_split(x, y, test_size=0.2, random_state=10)\n",
        "print(f\"Training set : {x_train.shape[0]:,} samples ({x_train.shape[0]*100/df_dum.shape[0]:.2f}%)\")\n",
        "print(f\"Test set : {x_test.shape[0]:,} samples ({x_test.shape[0]*100/df_dum.shape[0]:.2f}%)\")"
      ]
    },
    {
      "attachments": {},
      "cell_type": "markdown",
      "metadata": {
        "id": "7AXW7voq4hOb"
      },
      "source": [
        "#### **Dimensionality Reduction**"
      ]
    },
    {
      "attachments": {},
      "cell_type": "markdown",
      "metadata": {
        "id": "QUHZXa9J4lj_"
      },
      "source": [
        "##### *Feature Scaling*"
      ]
    },
    {
      "cell_type": "code",
      "execution_count": null,
      "metadata": {
        "colab": {
          "base_uri": "https://localhost:8080/",
          "height": 317
        },
        "id": "tgWAyUPF4kxg",
        "outputId": "6ce161c0-e2d8-4bdd-9ca2-68e3e039bfbd"
      },
      "outputs": [
        {
          "ename": "",
          "evalue": "",
          "output_type": "error",
          "traceback": [
            "\u001b[1;31mRunning cells with 'Regression-wO02IdyG' requires the ipykernel package.\n",
            "\u001b[1;31mRun the following command to install 'ipykernel' into the Python environment. \n",
            "\u001b[1;31mCommand: 'c:/Users/summe/.virtualenvs/Regression-wO02IdyG/Scripts/python.exe -m pip install ipykernel -U --force-reinstall'"
          ]
        }
      ],
      "source": [
        "# Feature scaling, use \"StandardScaler\"\n",
        "sc = StandardScaler()\n",
        "x_train_sc = sc.fit_transform(x_train)\n",
        "df_train_sc = pd.DataFrame(x_train_sc, columns=x_train.columns)\n",
        "df_train_sc.head()"
      ]
    },
    {
      "attachments": {},
      "cell_type": "markdown",
      "metadata": {
        "id": "Yh-rYAry4DvR"
      },
      "source": [
        "#### **Train Model**"
      ]
    },
    {
      "attachments": {},
      "cell_type": "markdown",
      "metadata": {
        "id": "hGKKQ1Ze4RWu"
      },
      "source": [
        "##### *Algorithm Comparison*"
      ]
    },
    {
      "cell_type": "code",
      "execution_count": null,
      "metadata": {
        "id": "I70sANYQ_EGr"
      },
      "outputs": [
        {
          "ename": "",
          "evalue": "",
          "output_type": "error",
          "traceback": [
            "\u001b[1;31mRunning cells with 'Regression-wO02IdyG' requires the ipykernel package.\n",
            "\u001b[1;31mRun the following command to install 'ipykernel' into the Python environment. \n",
            "\u001b[1;31mCommand: 'c:/Users/summe/.virtualenvs/Regression-wO02IdyG/Scripts/python.exe -m pip install ipykernel -U --force-reinstall'"
          ]
        }
      ],
      "source": [
        "# Choose the best algorithm\n",
        "model_list = {\n",
        "    'mlr' : LinearRegression(),\n",
        "    'llr' : Lasso(tol = 1.275e+11),\n",
        "    'rid' : Ridge(),\n",
        "    'enr' : ElasticNet(),\n",
        "    'rfr' : RandomForestRegressor()\n",
        "}"
      ]
    },
    {
      "cell_type": "code",
      "execution_count": null,
      "metadata": {
        "id": "HxvMrqE_IwWH"
      },
      "outputs": [
        {
          "ename": "",
          "evalue": "",
          "output_type": "error",
          "traceback": [
            "\u001b[1;31mRunning cells with 'Regression-wO02IdyG' requires the ipykernel package.\n",
            "\u001b[1;31mRun the following command to install 'ipykernel' into the Python environment. \n",
            "\u001b[1;31mCommand: 'c:/Users/summe/.virtualenvs/Regression-wO02IdyG/Scripts/python.exe -m pip install ipykernel -U --force-reinstall'"
          ]
        }
      ],
      "source": [
        "def modelCompare(models, feature, target):\n",
        "  r_score = dict()\n",
        "  feature_sc = sc.fit_transform(feature)\n",
        "  for name,model in models.items():\n",
        "    cvs = cross_val_score(model, feature_sc, target, cv=5)\n",
        "    r_score[name] = cvs.mean()*100\n",
        "  return pd.Series(r_score, name='Score(%)')"
      ]
    },
    {
      "cell_type": "code",
      "execution_count": null,
      "metadata": {
        "colab": {
          "base_uri": "https://localhost:8080/"
        },
        "id": "qyM1pUBnH8Cs",
        "outputId": "3e6b3776-61a8-4a6d-eb59-0f244f685ae3"
      },
      "outputs": [
        {
          "ename": "",
          "evalue": "",
          "output_type": "error",
          "traceback": [
            "\u001b[1;31mRunning cells with 'Regression-wO02IdyG' requires the ipykernel package.\n",
            "\u001b[1;31mRun the following command to install 'ipykernel' into the Python environment. \n",
            "\u001b[1;31mCommand: 'c:/Users/summe/.virtualenvs/Regression-wO02IdyG/Scripts/python.exe -m pip install ipykernel -U --force-reinstall'"
          ]
        }
      ],
      "source": [
        "score = modelCompare(model_list, x_train, y_train)\n",
        "score"
      ]
    },
    {
      "cell_type": "code",
      "execution_count": null,
      "metadata": {
        "colab": {
          "base_uri": "https://localhost:8080/"
        },
        "id": "GHd9TiyTWFbT",
        "outputId": "148fb6a4-c137-44ba-d240-2a58a70681aa"
      },
      "outputs": [
        {
          "ename": "",
          "evalue": "",
          "output_type": "error",
          "traceback": [
            "\u001b[1;31mRunning cells with 'Regression-wO02IdyG' requires the ipykernel package.\n",
            "\u001b[1;31mRun the following command to install 'ipykernel' into the Python environment. \n",
            "\u001b[1;31mCommand: 'c:/Users/summe/.virtualenvs/Regression-wO02IdyG/Scripts/python.exe -m pip install ipykernel -U --force-reinstall'"
          ]
        }
      ],
      "source": [
        "# Choose models with the highest efficiency\n",
        "model = model_list[score.idxmax()]\n",
        "print(f\"The algorithm '{model}' has the highest efficiency ({score.max():.2f}%)\")"
      ]
    },
    {
      "cell_type": "code",
      "execution_count": null,
      "metadata": {
        "id": "csPTHhVlb6aW"
      },
      "outputs": [
        {
          "ename": "",
          "evalue": "",
          "output_type": "error",
          "traceback": [
            "\u001b[1;31mRunning cells with 'Regression-wO02IdyG' requires the ipykernel package.\n",
            "\u001b[1;31mRun the following command to install 'ipykernel' into the Python environment. \n",
            "\u001b[1;31mCommand: 'c:/Users/summe/.virtualenvs/Regression-wO02IdyG/Scripts/python.exe -m pip install ipykernel -U --force-reinstall'"
          ]
        }
      ],
      "source": [
        "model.fit(x_train, y_train)\n",
        "y_pred = model.predict(x_test)"
      ]
    },
    {
      "cell_type": "code",
      "execution_count": null,
      "metadata": {
        "id": "RJdgb7Uzb6aW"
      },
      "outputs": [
        {
          "ename": "",
          "evalue": "",
          "output_type": "error",
          "traceback": [
            "\u001b[1;31mRunning cells with 'Regression-wO02IdyG' requires the ipykernel package.\n",
            "\u001b[1;31mRun the following command to install 'ipykernel' into the Python environment. \n",
            "\u001b[1;31mCommand: 'c:/Users/summe/.virtualenvs/Regression-wO02IdyG/Scripts/python.exe -m pip install ipykernel -U --force-reinstall'"
          ]
        }
      ],
      "source": [
        "# Evaluate the model.\n",
        "R2 = r2_score(y_test, y_pred)\n",
        "MSE = mean_squared_error(y_test, y_pred)\n",
        "RMSE = np.sqrt(MSE)"
      ]
    },
    {
      "attachments": {},
      "cell_type": "markdown",
      "metadata": {
        "id": "swSBKfQ58FAr"
      },
      "source": [
        "##### *Model Tuning*\n"
      ]
    },
    {
      "cell_type": "code",
      "execution_count": null,
      "metadata": {
        "id": "2TLm69c6rjCK"
      },
      "outputs": [
        {
          "ename": "",
          "evalue": "",
          "output_type": "error",
          "traceback": [
            "\u001b[1;31mRunning cells with 'Regression-wO02IdyG' requires the ipykernel package.\n",
            "\u001b[1;31mRun the following command to install 'ipykernel' into the Python environment. \n",
            "\u001b[1;31mCommand: 'c:/Users/summe/.virtualenvs/Regression-wO02IdyG/Scripts/python.exe -m pip install ipykernel -U --force-reinstall'"
          ]
        }
      ],
      "source": [
        "# Model tuning for 'LinearRegression', use \"Grid Search\"\n",
        "param_dist = {\n",
        "    'criterion' : ['squared_error','absolute_error','friedman_mse','poisson'],\n",
        "    'max_features' : [1.0,'sqrt','log2'],\n",
        "}\n",
        "grid_search = GridSearchCV(estimator=model, param_grid=param_dist, verbose=0, n_jobs=-1)\n",
        "grid_result = grid_search.fit(x_train_sc, y_train)"
      ]
    },
    {
      "cell_type": "code",
      "execution_count": null,
      "metadata": {
        "colab": {
          "base_uri": "https://localhost:8080/"
        },
        "id": "N2jTgAybdeNq",
        "outputId": "671010a9-7ab4-4b3b-d72e-834f037b7487"
      },
      "outputs": [
        {
          "ename": "",
          "evalue": "",
          "output_type": "error",
          "traceback": [
            "\u001b[1;31mRunning cells with 'Regression-wO02IdyG' requires the ipykernel package.\n",
            "\u001b[1;31mRun the following command to install 'ipykernel' into the Python environment. \n",
            "\u001b[1;31mCommand: 'c:/Users/summe/.virtualenvs/Regression-wO02IdyG/Scripts/python.exe -m pip install ipykernel -U --force-reinstall'"
          ]
        }
      ],
      "source": [
        "print(f\"Parameter obtained from tuning : {grid_search.best_params_}\")\n",
        "print(f\"Use parameter : {model.get_params()}\")"
      ]
    },
    {
      "attachments": {},
      "cell_type": "markdown",
      "metadata": {
        "id": "hdycXfND_gc0"
      },
      "source": [
        "##### *Predict values*\n"
      ]
    },
    {
      "cell_type": "code",
      "execution_count": null,
      "metadata": {
        "id": "sgjXA22_BgKZ"
      },
      "outputs": [
        {
          "ename": "",
          "evalue": "",
          "output_type": "error",
          "traceback": [
            "\u001b[1;31mRunning cells with 'Regression-wO02IdyG' requires the ipykernel package.\n",
            "\u001b[1;31mRun the following command to install 'ipykernel' into the Python environment. \n",
            "\u001b[1;31mCommand: 'c:/Users/summe/.virtualenvs/Regression-wO02IdyG/Scripts/python.exe -m pip install ipykernel -U --force-reinstall'"
          ]
        }
      ],
      "source": [
        "# Model parameterization\n",
        "# Create pipeline\n",
        "pipe = Pipeline([\n",
        "    ('sc', StandardScaler()),\n",
        "    ('model', grid_search.best_estimator_),\n",
        "])"
      ]
    },
    {
      "cell_type": "code",
      "execution_count": null,
      "metadata": {
        "id": "47cb7lQ2PB_e"
      },
      "outputs": [
        {
          "ename": "",
          "evalue": "",
          "output_type": "error",
          "traceback": [
            "\u001b[1;31mRunning cells with 'Regression-wO02IdyG' requires the ipykernel package.\n",
            "\u001b[1;31mRun the following command to install 'ipykernel' into the Python environment. \n",
            "\u001b[1;31mCommand: 'c:/Users/summe/.virtualenvs/Regression-wO02IdyG/Scripts/python.exe -m pip install ipykernel -U --force-reinstall'"
          ]
        }
      ],
      "source": [
        "# Predict values\n",
        "pipe.fit(x_train, y_train)\n",
        "y_pred_tune = pipe.predict(x_test)"
      ]
    },
    {
      "cell_type": "code",
      "execution_count": null,
      "metadata": {
        "id": "EemVXH5ib6aZ"
      },
      "outputs": [
        {
          "ename": "",
          "evalue": "",
          "output_type": "error",
          "traceback": [
            "\u001b[1;31mRunning cells with 'Regression-wO02IdyG' requires the ipykernel package.\n",
            "\u001b[1;31mRun the following command to install 'ipykernel' into the Python environment. \n",
            "\u001b[1;31mCommand: 'c:/Users/summe/.virtualenvs/Regression-wO02IdyG/Scripts/python.exe -m pip install ipykernel -U --force-reinstall'"
          ]
        }
      ],
      "source": [
        "# Evaluate the model.\n",
        "R2_tune = r2_score(y_test, y_pred_tune)\n",
        "MSE_tune = round(mean_squared_error(y_test, y_pred_tune), 2)\n",
        "RMSE_tune = round(np.sqrt(MSE_tune), 2)"
      ]
    },
    {
      "cell_type": "code",
      "execution_count": null,
      "metadata": {
        "colab": {
          "base_uri": "https://localhost:8080/"
        },
        "id": "iarEt-zNATK6",
        "outputId": "8e554ff1-54aa-480b-87f2-8700a59da2c8"
      },
      "outputs": [
        {
          "ename": "",
          "evalue": "",
          "output_type": "error",
          "traceback": [
            "\u001b[1;31mRunning cells with 'Regression-wO02IdyG' requires the ipykernel package.\n",
            "\u001b[1;31mRun the following command to install 'ipykernel' into the Python environment. \n",
            "\u001b[1;31mCommand: 'c:/Users/summe/.virtualenvs/Regression-wO02IdyG/Scripts/python.exe -m pip install ipykernel -U --force-reinstall'"
          ]
        }
      ],
      "source": [
        "# Conclude evaluation\n",
        "print('+'+'-'*30+'+'+'-'*21+'+'+'-'*21+'+')\n",
        "print(f\"| Evaluate the model           |{' '*4}Before Tuning{' '*4}|{' '*4} After Tuning{' '*4}|\")\n",
        "print('+'+'-'*30+'+'+'-'*21+'+'+'-'*21+'+')\n",
        "print(f\"| Coefficient of Determination |{' '*7}{R2*100:.2f} %{' '*7}|{' '*7}{R2_tune*100:.2f} %{' '*7}|\")\n",
        "print(f\"| Mean Square Error            |{' '*2}{MSE:,.2f}{' '*2}|{' '*2}{MSE_tune:,.2f}{' '*2}|\") \n",
        "print(f\"| Root Mean Square Error       |{' '*5}{RMSE:,.2f}{' '*5} |{' '*5}{RMSE_tune:,.2f} {' '*5}|\")\n",
        "print('+'+'-'*30+'+'+'-'*21+'+'+'-'*21+'+')"
      ]
    },
    {
      "cell_type": "code",
      "execution_count": null,
      "metadata": {
        "colab": {
          "base_uri": "https://localhost:8080/",
          "height": 206
        },
        "id": "2-u6CafNBKVh",
        "outputId": "fefa95d4-3884-464a-fab8-3b115ea15b7c"
      },
      "outputs": [
        {
          "ename": "",
          "evalue": "",
          "output_type": "error",
          "traceback": [
            "\u001b[1;31mRunning cells with 'Regression-wO02IdyG' requires the ipykernel package.\n",
            "\u001b[1;31mRun the following command to install 'ipykernel' into the Python environment. \n",
            "\u001b[1;31mCommand: 'c:/Users/summe/.virtualenvs/Regression-wO02IdyG/Scripts/python.exe -m pip install ipykernel -U --force-reinstall'"
          ]
        }
      ],
      "source": [
        "# Create a dataframe to collect the predicted values.\n",
        "result = y_test.to_frame()\n",
        "result['Predict_Values'] = y_pred\n",
        "result['Diff'] = abs(result['Weekly_Sales']-result['Predict_Values'])\n",
        "result['Diff(%)'] = (result['Diff']*100)/result['Weekly_Sales']\n",
        "result.head(5)"
      ]
    },
    {
      "cell_type": "code",
      "execution_count": null,
      "metadata": {
        "colab": {
          "base_uri": "https://localhost:8080/",
          "height": 383
        },
        "id": "wb2ZeVRA--pt",
        "outputId": "60e5c60f-3b72-43a0-f502-a65a1724e142"
      },
      "outputs": [
        {
          "ename": "",
          "evalue": "",
          "output_type": "error",
          "traceback": [
            "\u001b[1;31mRunning cells with 'Regression-wO02IdyG' requires the ipykernel package.\n",
            "\u001b[1;31mRun the following command to install 'ipykernel' into the Python environment. \n",
            "\u001b[1;31mCommand: 'c:/Users/summe/.virtualenvs/Regression-wO02IdyG/Scripts/python.exe -m pip install ipykernel -U --force-reinstall'"
          ]
        }
      ],
      "source": [
        "# Configure the graph display\n",
        "fig, ax = plt.subplots(figsize=(20,7))\n",
        "sns.scatterplot(x=y_pred,\n",
        "                y=y_test,\n",
        "                ax=ax\n",
        "                )\n",
        "sns.lineplot(x=y_pred,\n",
        "             y=y_pred,\n",
        "             color='r',\n",
        "             ax=ax\n",
        "             )\n",
        "# Configure the title text\n",
        "ax.set_title(f\"Result of Weekly sales : Efficiency {R2_tune*100:.2f} %\", fontsize=15);\n",
        "ax.set_xlabel(\"Predict values\", fontsize=13)\n",
        "ax.set_ylabel(\"True values\", fontsize=13);"
      ]
    },
    {
      "cell_type": "code",
      "execution_count": null,
      "metadata": {},
      "outputs": [
        {
          "ename": "",
          "evalue": "",
          "output_type": "error",
          "traceback": [
            "\u001b[1;31mRunning cells with 'Regression-wO02IdyG' requires the ipykernel package.\n",
            "\u001b[1;31mRun the following command to install 'ipykernel' into the Python environment. \n",
            "\u001b[1;31mCommand: 'c:/Users/summe/.virtualenvs/Regression-wO02IdyG/Scripts/python.exe -m pip install ipykernel -U --force-reinstall'"
          ]
        }
      ],
      "source": [
        "plt.figure(figsize=(20,7))\n",
        "df_result = pd.melt(result[['Weekly_Sales', 'Predict_Values']], ignore_index=False)\n",
        "ax = sns.lineplot(x=df_result.index, y=df_result.value, hue=df_result.variable)\n",
        "ax.set_title(f\"Result of Weekly sales : Efficiency {R2_tune*100:.2f} %\", fontsize=15);"
      ]
    }
  ],
  "metadata": {
    "colab": {
      "collapsed_sections": [
        "g-MoNymwzYLg"
      ],
      "provenance": []
    },
    "kernelspec": {
      "display_name": "DataScience-nH9wYwaF",
      "language": "python",
      "name": "python3"
    },
    "language_info": {
      "codemirror_mode": {
        "name": "ipython",
        "version": 3
      },
      "file_extension": ".py",
      "mimetype": "text/x-python",
      "name": "python",
      "nbconvert_exporter": "python",
      "pygments_lexer": "ipython3",
      "version": "3.11.4"
    },
    "vscode": {
      "interpreter": {
        "hash": "83c7eeb578c770dd82a4c52a4feaed06c94e1744910a7d5e4280a84b7e0c7bb5"
      }
    }
  },
  "nbformat": 4,
  "nbformat_minor": 0
}
